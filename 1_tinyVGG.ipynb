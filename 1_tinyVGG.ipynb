{
 "cells": [
  {
   "cell_type": "markdown",
   "metadata": {
    "colab_type": "text",
    "id": "view-in-github"
   },
   "source": [
    "<a href=\"https://colab.research.google.com/github/buupq/torch/blob/main/tinyVGG.ipynb\" target=\"_parent\"><img src=\"https://colab.research.google.com/assets/colab-badge.svg\" alt=\"Open In Colab\"/></a>"
   ]
  },
  {
   "cell_type": "markdown",
   "metadata": {},
   "source": [
    "# Test modules\n",
    "* download data\n",
    "* create tinyVGG model\n",
    "* do training and testing"
   ]
  },
  {
   "cell_type": "code",
   "execution_count": 1,
   "metadata": {},
   "outputs": [
    {
     "name": "stdout",
     "output_type": "stream",
     "text": [
      "torch: 2.0.1+cu118 | torchvision: 0.15.2+cu118\n"
     ]
    }
   ],
   "source": [
    "import torch\n",
    "import torchvision\n",
    "from torch import nn\n",
    "from torchvision import transforms\n",
    "\n",
    "print(f\"torch: {torch.__version__} | torchvision: {torchvision.__version__}\")"
   ]
  },
  {
   "cell_type": "code",
   "execution_count": 2,
   "metadata": {},
   "outputs": [
    {
     "name": "stdout",
     "output_type": "stream",
     "text": [
      "[INFO] installing torchinfo...\n",
      "Requirement already satisfied: torchinfo in /opt/conda/lib/python3.11/site-packages (1.8.0)\n"
     ]
    }
   ],
   "source": [
    "# import model sumary\n",
    "try:\n",
    "    from torchinfo import sumary\n",
    "except:\n",
    "    print(f\"[INFO] installing torchinfo...\")\n",
    "    !pip install torchinfo\n",
    "    from torchinfo import summary"
   ]
  },
  {
   "cell_type": "code",
   "execution_count": 3,
   "metadata": {},
   "outputs": [
    {
     "name": "stderr",
     "output_type": "stream",
     "text": [
      "2023-11-06 16:07:05.627292: I tensorflow/core/util/port.cc:110] oneDNN custom operations are on. You may see slightly different numerical results due to floating-point round-off errors from different computation orders. To turn them off, set the environment variable `TF_ENABLE_ONEDNN_OPTS=0`.\n",
      "2023-11-06 16:07:05.670261: I tensorflow/core/platform/cpu_feature_guard.cc:182] This TensorFlow binary is optimized to use available CPU instructions in performance-critical operations.\n",
      "To enable the following instructions: AVX2 AVX512F AVX512_VNNI FMA, in other operations, rebuild TensorFlow with the appropriate compiler flags.\n",
      "2023-11-06 16:07:06.344784: W tensorflow/compiler/tf2tensorrt/utils/py_utils.cc:38] TF-TRT Warning: Could not find TensorRT\n"
     ]
    }
   ],
   "source": [
    "# import our source modules\n",
    "from sources import utils, datasetup, engine, models"
   ]
  },
  {
   "cell_type": "code",
   "execution_count": 4,
   "metadata": {},
   "outputs": [
    {
     "data": {
      "text/plain": [
       "'cuda'"
      ]
     },
     "execution_count": 4,
     "metadata": {},
     "output_type": "execute_result"
    }
   ],
   "source": [
    "# device agnostic\n",
    "device = \"cuda\" if torch.cuda.is_available() else \"cpu\"\n",
    "device"
   ]
  },
  {
   "cell_type": "code",
   "execution_count": 5,
   "metadata": {},
   "outputs": [
    {
     "name": "stdout",
     "output_type": "stream",
     "text": [
      "[INFO] data/images exist.\n"
     ]
    },
    {
     "data": {
      "text/plain": [
       "PosixPath('data/images')"
      ]
     },
     "execution_count": 5,
     "metadata": {},
     "output_type": "execute_result"
    }
   ],
   "source": [
    "# download data\n",
    "source = \"https://github.com/mrdbourke/pytorch-deep-learning/raw/main/data/pizza_steak_sushi.zip\"\n",
    "image_path = datasetup.download_data(source=source)\n",
    "image_path"
   ]
  },
  {
   "cell_type": "code",
   "execution_count": 6,
   "metadata": {},
   "outputs": [
    {
     "data": {
      "text/plain": [
       "(True, True)"
      ]
     },
     "execution_count": 6,
     "metadata": {},
     "output_type": "execute_result"
    }
   ],
   "source": [
    "# setup train and test directory\n",
    "train_dir = image_path / \"train\"\n",
    "test_dir = image_path / \"test\"\n",
    "train_dir.is_dir(), test_dir.is_dir()"
   ]
  },
  {
   "cell_type": "code",
   "execution_count": 7,
   "metadata": {},
   "outputs": [
    {
     "data": {
      "text/plain": [
       "(Compose(\n",
       "     Resize(size=(64, 64), interpolation=bilinear, max_size=None, antialias=warn)\n",
       "     ToTensor()\n",
       "     RandomHorizontalFlip(p=0.5)\n",
       " ),\n",
       " Compose(\n",
       "     Resize(size=(64, 64), interpolation=bilinear, max_size=None, antialias=warn)\n",
       "     ToTensor()\n",
       " ))"
      ]
     },
     "execution_count": 7,
     "metadata": {},
     "output_type": "execute_result"
    }
   ],
   "source": [
    "# set up a simple composed transforms\n",
    "#     resize image (64, 64)\n",
    "#     convert image to torch tensor\n",
    "#     extra augmented transformation for train dataset\n",
    "\n",
    "train_transforms = transforms.Compose([\n",
    "    transforms.Resize(size=(64,64)),\n",
    "    transforms.ToTensor(),\n",
    "    transforms.RandomHorizontalFlip(p=0.5)\n",
    "])\n",
    "\n",
    "test_transforms = transforms.Compose([\n",
    "    transforms.Resize(size=(64,64)),\n",
    "    transforms.ToTensor()\n",
    "])\n",
    "\n",
    "train_transforms, test_transforms"
   ]
  },
  {
   "cell_type": "code",
   "execution_count": 8,
   "metadata": {},
   "outputs": [
    {
     "name": "stdout",
     "output_type": "stream",
     "text": [
      "[INFO] creating dataloaders... \n",
      "train_dataloader: <torch.utils.data.dataloader.DataLoader object at 0x7fea531cefd0> \n",
      "test_dataloader: <torch.utils.data.dataloader.DataLoader object at 0x7fea531c2890> \n",
      "number of class_names: 3\n"
     ]
    }
   ],
   "source": [
    "# create dataloaders from train, test dirs and simple transforms\n",
    "train_dataloader, test_dataloader, class_names = datasetup.create_dataloaders(\n",
    "    train_dir=train_dir,\n",
    "    test_dir=test_dir,\n",
    "    train_transforms=train_transforms,\n",
    "    test_transforms=test_transforms,\n",
    "    batch_size=32\n",
    ")"
   ]
  },
  {
   "cell_type": "code",
   "execution_count": 9,
   "metadata": {},
   "outputs": [
    {
     "name": "stdout",
     "output_type": "stream",
     "text": [
      "[INFO] creating tinyVGG_0 model...\n"
     ]
    },
    {
     "data": {
      "text/plain": [
       "tinyVGG(\n",
       "  (block_1): Sequential(\n",
       "    (0): Conv2d(3, 10, kernel_size=(3, 3), stride=(1, 1), padding=(1, 1))\n",
       "    (1): ReLU()\n",
       "    (2): Conv2d(10, 10, kernel_size=(3, 3), stride=(1, 1), padding=(1, 1))\n",
       "    (3): ReLU()\n",
       "    (4): MaxPool2d(kernel_size=2, stride=2, padding=0, dilation=1, ceil_mode=False)\n",
       "  )\n",
       "  (block_2): Sequential(\n",
       "    (0): Conv2d(10, 10, kernel_size=(3, 3), stride=(1, 1), padding=(1, 1))\n",
       "    (1): ReLU()\n",
       "    (2): Conv2d(10, 10, kernel_size=(3, 3), stride=(1, 1), padding=(1, 1))\n",
       "    (3): ReLU()\n",
       "    (4): MaxPool2d(kernel_size=2, stride=2, padding=0, dilation=1, ceil_mode=False)\n",
       "  )\n",
       "  (classifier): Sequential(\n",
       "    (0): Flatten(start_dim=1, end_dim=-1)\n",
       "    (1): Linear(in_features=2560, out_features=3, bias=True)\n",
       "  )\n",
       ")"
      ]
     },
     "execution_count": 9,
     "metadata": {},
     "output_type": "execute_result"
    }
   ],
   "source": [
    "# create model\n",
    "tinyVGG_0 = models.tinyVGG(\n",
    "    name=\"tinyVGG_0\",\n",
    "    inp_shape=3,\n",
    "    out_shape=len(class_names)\n",
    ")\n",
    "tinyVGG_0"
   ]
  },
  {
   "cell_type": "code",
   "execution_count": 10,
   "metadata": {
    "scrolled": true
   },
   "outputs": [
    {
     "data": {
      "text/plain": [
       "========================================================================================================================\n",
       "Layer (type:depth-idx)                   Input Shape          Output Shape         Param #              Trainable\n",
       "========================================================================================================================\n",
       "tinyVGG                                  [32, 3, 64, 64]      [32, 3]              --                   True\n",
       "├─Sequential: 1-1                        [32, 3, 64, 64]      [32, 10, 32, 32]     --                   True\n",
       "│    └─Conv2d: 2-1                       [32, 3, 64, 64]      [32, 10, 64, 64]     280                  True\n",
       "│    └─ReLU: 2-2                         [32, 10, 64, 64]     [32, 10, 64, 64]     --                   --\n",
       "│    └─Conv2d: 2-3                       [32, 10, 64, 64]     [32, 10, 64, 64]     910                  True\n",
       "│    └─ReLU: 2-4                         [32, 10, 64, 64]     [32, 10, 64, 64]     --                   --\n",
       "│    └─MaxPool2d: 2-5                    [32, 10, 64, 64]     [32, 10, 32, 32]     --                   --\n",
       "├─Sequential: 1-2                        [32, 10, 32, 32]     [32, 10, 16, 16]     --                   True\n",
       "│    └─Conv2d: 2-6                       [32, 10, 32, 32]     [32, 10, 32, 32]     910                  True\n",
       "│    └─ReLU: 2-7                         [32, 10, 32, 32]     [32, 10, 32, 32]     --                   --\n",
       "│    └─Conv2d: 2-8                       [32, 10, 32, 32]     [32, 10, 32, 32]     910                  True\n",
       "│    └─ReLU: 2-9                         [32, 10, 32, 32]     [32, 10, 32, 32]     --                   --\n",
       "│    └─MaxPool2d: 2-10                   [32, 10, 32, 32]     [32, 10, 16, 16]     --                   --\n",
       "├─Sequential: 1-3                        [32, 10, 16, 16]     [32, 3]              --                   True\n",
       "│    └─Flatten: 2-11                     [32, 10, 16, 16]     [32, 2560]           --                   --\n",
       "│    └─Linear: 2-12                      [32, 2560]           [32, 3]              7,683                True\n",
       "========================================================================================================================\n",
       "Total params: 10,693\n",
       "Trainable params: 10,693\n",
       "Non-trainable params: 0\n",
       "Total mult-adds (Units.MEGABYTES): 215.86\n",
       "========================================================================================================================\n",
       "Input size (MB): 1.57\n",
       "Forward/backward pass size (MB): 26.22\n",
       "Params size (MB): 0.04\n",
       "Estimated Total Size (MB): 27.83\n",
       "========================================================================================================================"
      ]
     },
     "execution_count": 10,
     "metadata": {},
     "output_type": "execute_result"
    }
   ],
   "source": [
    "# check model parameters\n",
    "summary(\n",
    "    model=tinyVGG_0,\n",
    "    input_size=[32, 3, 64, 64],\n",
    "    col_names=[\"input_size\", \"output_size\", \"num_params\", \"trainable\"],\n",
    "    col_width=20\n",
    ")"
   ]
  },
  {
   "cell_type": "code",
   "execution_count": 11,
   "metadata": {},
   "outputs": [],
   "source": [
    "# setup loss function and optimizer\n",
    "loss_fn = torch.nn.CrossEntropyLoss()\n",
    "optimizer = torch.optim.Adam(params=tinyVGG_0.parameters(), lr=1e-3)"
   ]
  },
  {
   "cell_type": "code",
   "execution_count": 12,
   "metadata": {},
   "outputs": [
    {
     "data": {
      "application/vnd.jupyter.widget-view+json": {
       "model_id": "73eca01e61154be6b2ea7f7759e3d3c8",
       "version_major": 2,
       "version_minor": 0
      },
      "text/plain": [
       "  0%|          | 0/20 [00:00<?, ?it/s]"
      ]
     },
     "metadata": {},
     "output_type": "display_data"
    },
    {
     "name": "stdout",
     "output_type": "stream",
     "text": [
      "epoch: 0 | train_loss: 1.1165 | train_acc: 0.3008 | test_loss: 1.0926 | test_acc: 0.2604\n",
      "epoch: 1 | train_loss: 1.1089 | train_acc: 0.2930 | test_loss: 1.1549 | test_acc: 0.1979\n",
      "epoch: 2 | train_loss: 1.0952 | train_acc: 0.3945 | test_loss: 1.1639 | test_acc: 0.2604\n",
      "epoch: 3 | train_loss: 1.1085 | train_acc: 0.3047 | test_loss: 1.1426 | test_acc: 0.2604\n",
      "epoch: 4 | train_loss: 1.1103 | train_acc: 0.3047 | test_loss: 1.1207 | test_acc: 0.2604\n",
      "epoch: 5 | train_loss: 1.0998 | train_acc: 0.2695 | test_loss: 1.1031 | test_acc: 0.1979\n",
      "epoch: 6 | train_loss: 1.0975 | train_acc: 0.3398 | test_loss: 1.1048 | test_acc: 0.2604\n",
      "epoch: 7 | train_loss: 1.0937 | train_acc: 0.4258 | test_loss: 1.1112 | test_acc: 0.2604\n",
      "epoch: 8 | train_loss: 1.0844 | train_acc: 0.4258 | test_loss: 1.1295 | test_acc: 0.2604\n",
      "epoch: 9 | train_loss: 1.1026 | train_acc: 0.3047 | test_loss: 1.1436 | test_acc: 0.2604\n",
      "epoch: 10 | train_loss: 1.0956 | train_acc: 0.3047 | test_loss: 1.1336 | test_acc: 0.2708\n",
      "epoch: 11 | train_loss: 1.0926 | train_acc: 0.4727 | test_loss: 1.1259 | test_acc: 0.3229\n",
      "epoch: 12 | train_loss: 1.0775 | train_acc: 0.4883 | test_loss: 1.1516 | test_acc: 0.2708\n",
      "epoch: 13 | train_loss: 1.1163 | train_acc: 0.3047 | test_loss: 1.1558 | test_acc: 0.2604\n",
      "epoch: 14 | train_loss: 1.0910 | train_acc: 0.3047 | test_loss: 1.1065 | test_acc: 0.2708\n",
      "epoch: 15 | train_loss: 1.0867 | train_acc: 0.3477 | test_loss: 1.1046 | test_acc: 0.2708\n",
      "epoch: 16 | train_loss: 1.0799 | train_acc: 0.5000 | test_loss: 1.0994 | test_acc: 0.2812\n",
      "epoch: 17 | train_loss: 1.0887 | train_acc: 0.3320 | test_loss: 1.1002 | test_acc: 0.2708\n",
      "epoch: 18 | train_loss: 1.0781 | train_acc: 0.3164 | test_loss: 1.0700 | test_acc: 0.2604\n",
      "epoch: 19 | train_loss: 1.0466 | train_acc: 0.5117 | test_loss: 1.0456 | test_acc: 0.3513\n"
     ]
    }
   ],
   "source": [
    "# perform traning\n",
    "results = engine.train(\n",
    "    model=tinyVGG_0,\n",
    "    train_dataloader=train_dataloader,\n",
    "    test_dataloader = test_dataloader,\n",
    "    loss_fn = loss_fn,\n",
    "    optimizer=optimizer,\n",
    "    epochs=20,\n",
    "    device=device\n",
    ")"
   ]
  },
  {
   "cell_type": "code",
   "execution_count": 13,
   "metadata": {},
   "outputs": [
    {
     "data": {
      "text/plain": [
       "<matplotlib.legend.Legend at 0x7fea40d3f210>"
      ]
     },
     "execution_count": 13,
     "metadata": {},
     "output_type": "execute_result"
    },
    {
     "data": {
      "image/png": "[encoded data removed]",
      "text/plain": [
       "<Figure size 1000x400 with 2 Axes>"
      ]
     },
     "metadata": {},
     "output_type": "display_data"
    }
   ],
   "source": [
    "import matplotlib.pyplot as plt\n",
    "\n",
    "fig, ax = plt.subplots(1, 2, figsize=(10,4))\n",
    "\n",
    "ax[0].plot(results[\"train_loss\"], label=\"train_loss\")\n",
    "ax[0].plot(results[\"test_loss\"], label=\"test_loss\")\n",
    "ax[0].set_xlabel(\"epoch\")\n",
    "ax[0].legend()\n",
    "\n",
    "ax[1].plot(results[\"train_acc\"], label=\"train_acc\")\n",
    "ax[1].plot(results[\"test_acc\"], label=\"test_acc\")\n",
    "ax[1].set_xlabel(\"epoch\")\n",
    "ax[1].legend()\n",
    "\n"
   ]
  },
  {
   "cell_type": "code",
   "execution_count": null,
   "metadata": {},
   "outputs": [],
   "source": []
  }
 ],
 "metadata": {
  "colab": {
   "authorship_tag": "ABX9TyNs7FAXY+s6tKo+OWxJConv",
   "include_colab_link": true,
   "provenance": []
  },
  "kernelspec": {
   "display_name": "OLCF-CUDA11 (ipykernel)",
   "language": "python",
   "name": "python3"
  },
  "language_info": {
   "codemirror_mode": {
    "name": "ipython",
    "version": 3
   },
   "file_extension": ".py",
   "mimetype": "text/x-python",
   "name": "python",
   "nbconvert_exporter": "python",
   "pygments_lexer": "ipython3",
   "version": "3.11.4"
  }
 },
 "nbformat": 4,
 "nbformat_minor": 4
}
