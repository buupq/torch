{
 "cells": [
  {
   "cell_type": "markdown",
   "id": "a88d65ce-22ae-4f48-a6b8-4b3a9ac2bac3",
   "metadata": {},
   "source": [
    "# Transfer learning\n",
    "* Download data\n",
    "* Get a pretrained model\n",
    "* Do training\n",
    "* Load results from tensorboard writer"
   ]
  },
  {
   "cell_type": "code",
   "execution_count": null,
   "id": "f372fa0e-9ae5-47f0-a87e-fd23a9f9e689",
   "metadata": {},
   "outputs": [],
   "source": [
    "import torch\n",
    "import torchvision\n",
    "from torch import nn\n",
    "from torchvision import transforms\n",
    "\n",
    "print(f\"torch {torch.__version__} | torchvision {torchvision.__version__}\")"
   ]
  },
  {
   "cell_type": "code",
   "execution_count": null,
   "id": "54119f0a-3298-4911-9d3f-c72a6a966d52",
   "metadata": {},
   "outputs": [],
   "source": [
    "# import torchinfo\n",
    "try:\n",
    "    from torchinfo import summary\n",
    "except:\n",
    "    print(f\"[INFO] installing torchinfo...\")\n",
    "    !pip install torchinfo\n",
    "    from torchinfo import summary"
   ]
  },
  {
   "cell_type": "code",
   "execution_count": null,
   "id": "813c7e8a-a663-4cc0-9483-47ba70f1d88b",
   "metadata": {},
   "outputs": [],
   "source": [
    "# import modules from sources\n",
    "from sources import utils, datasetup, engine, models"
   ]
  },
  {
   "cell_type": "code",
   "execution_count": null,
   "id": "a7b783b1-985f-44b9-b510-eace6e1428dc",
   "metadata": {},
   "outputs": [],
   "source": [
    "# device agnostic\n",
    "device = \"cuda\" if torch.cuda.is_available() else \"cpu\"\n",
    "device"
   ]
  },
  {
   "cell_type": "code",
   "execution_count": null,
   "id": "f4781dd1-3c7b-400a-9664-ebab8b28754a",
   "metadata": {},
   "outputs": [],
   "source": [
    "# download data\n",
    "source = \"https://github.com/mrdbourke/pytorch-deep-learning/raw/main/data/pizza_steak_sushi.zip\"\n",
    "image_path = datasetup.download_data(source=source)\n",
    "image_path"
   ]
  },
  {
   "cell_type": "code",
   "execution_count": null,
   "id": "6c0a3683-1ab2-45ff-bc77-6e95f374393d",
   "metadata": {},
   "outputs": [],
   "source": [
    "# setup train and test directories\n",
    "train_dir = image_path / \"train\"\n",
    "test_dir = image_path / \"test\"\n",
    "train_dir, test_dir"
   ]
  },
  {
   "cell_type": "code",
   "execution_count": null,
   "id": "e3a5cf62-b16e-4ff3-a247-3b09a8e97dad",
   "metadata": {},
   "outputs": [],
   "source": [
    "# setup an efficient net pretrained model\n",
    "model, model_transforms = models.create_effnet(\n",
    "    effnet_version=0\n",
    ")\n",
    "model_transforms"
   ]
  },
  {
   "cell_type": "code",
   "execution_count": null,
   "id": "b782ecc4-5a6f-4db1-9b4e-581c20b5229f",
   "metadata": {},
   "outputs": [],
   "source": [
    "# create dataloaders\n",
    "train_dataloader, test_dataloader, class_names = datasetup.create_dataloaders(\n",
    "    train_dir=train_dir,\n",
    "    test_dir=test_dir,\n",
    "    train_transforms=model_transforms,\n",
    "    test_transforms=model_transforms,\n",
    "    batch_size=32\n",
    ")"
   ]
  },
  {
   "cell_type": "code",
   "execution_count": null,
   "id": "a03fb537-8a00-475d-97b2-c0eeeffce70b",
   "metadata": {},
   "outputs": [],
   "source": [
    "# setup loss function and optimizer\n",
    "loss_fn = torch.nn.CrossEntropyLoss()\n",
    "optimizer = torch.optim.Adam(params=model.parameters(), lr=1e-3)"
   ]
  },
  {
   "cell_type": "code",
   "execution_count": null,
   "id": "ffa99aab-b9ee-4730-9420-58f732de3b55",
   "metadata": {},
   "outputs": [],
   "source": [
    "import shutil\n",
    "# # shutil.rmtree(\"runs\")\n",
    "shutil.rmtree(\"writerLog\")"
   ]
  },
  {
   "cell_type": "code",
   "execution_count": null,
   "id": "e1271cb3-a57f-45a2-8263-2d3c59aef4d4",
   "metadata": {},
   "outputs": [],
   "source": [
    "# train pretrained model with new data\n",
    "results = engine.train_tsb_writer(\n",
    "    model=model,\n",
    "    train_dataloader = train_dataloader,\n",
    "    test_dataloader = test_dataloader,\n",
    "    loss_fn = loss_fn,\n",
    "    optimizer = optimizer,\n",
    "    epochs=20,\n",
    "    device=device,\n",
    "    writer=utils.create_writer()\n",
    ")"
   ]
  },
  {
   "cell_type": "code",
   "execution_count": null,
   "id": "6f3adae1-825e-4c6e-9f3c-83c86de944a7",
   "metadata": {},
   "outputs": [],
   "source": [
    "%load_ext tensorboard\n",
    "%tensorboard --logdir wri"
   ]
  }
 ],
 "metadata": {
  "kernelspec": {
   "display_name": "OLCF-CUDA11 (ipykernel)",
   "language": "python",
   "name": "python3"
  },
  "language_info": {
   "codemirror_mode": {
    "name": "ipython",
    "version": 3
   },
   "file_extension": ".py",
   "mimetype": "text/x-python",
   "name": "python",
   "nbconvert_exporter": "python",
   "pygments_lexer": "ipython3",
   "version": "3.11.4"
  }
 },
 "nbformat": 4,
 "nbformat_minor": 5
}
