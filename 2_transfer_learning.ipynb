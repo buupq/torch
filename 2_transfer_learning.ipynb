{
 "cells": [
  {
   "cell_type": "markdown",
   "id": "a88d65ce-22ae-4f48-a6b8-4b3a9ac2bac3",
   "metadata": {},
   "source": [
    "# Transfer learning\n",
    "* Download data\n",
    "* Get a pretrained model\n",
    "* Do training\n",
    "* Load results from tensorboard writer"
   ]
  },
  {
   "cell_type": "code",
   "execution_count": 1,
   "id": "f372fa0e-9ae5-47f0-a87e-fd23a9f9e689",
   "metadata": {},
   "outputs": [
    {
     "name": "stdout",
     "output_type": "stream",
     "text": [
      "torch 2.0.1+cu118 | torchvision 0.15.2+cu118\n"
     ]
    }
   ],
   "source": [
    "import torch\n",
    "import torchvision\n",
    "from torch import nn\n",
    "from torchvision import transforms\n",
    "\n",
    "print(f\"torch {torch.__version__} | torchvision {torchvision.__version__}\")"
   ]
  },
  {
   "cell_type": "code",
   "execution_count": 2,
   "id": "54119f0a-3298-4911-9d3f-c72a6a966d52",
   "metadata": {},
   "outputs": [],
   "source": [
    "# import torchinfo\n",
    "try:\n",
    "    from torchinfo import summary\n",
    "except:\n",
    "    print(f\"[INFO] installing torchinfo...\")\n",
    "    !pip install torchinfo\n",
    "    from torchinfo import summary"
   ]
  },
  {
   "cell_type": "code",
   "execution_count": 3,
   "id": "813c7e8a-a663-4cc0-9483-47ba70f1d88b",
   "metadata": {},
   "outputs": [
    {
     "name": "stderr",
     "output_type": "stream",
     "text": [
      "2023-11-06 20:23:48.145091: I tensorflow/core/util/port.cc:110] oneDNN custom operations are on. You may see slightly different numerical results due to floating-point round-off errors from different computation orders. To turn them off, set the environment variable `TF_ENABLE_ONEDNN_OPTS=0`.\n",
      "2023-11-06 20:23:48.185937: I tensorflow/core/platform/cpu_feature_guard.cc:182] This TensorFlow binary is optimized to use available CPU instructions in performance-critical operations.\n",
      "To enable the following instructions: AVX2 AVX512F AVX512_VNNI FMA, in other operations, rebuild TensorFlow with the appropriate compiler flags.\n",
      "2023-11-06 20:23:48.809678: W tensorflow/compiler/tf2tensorrt/utils/py_utils.cc:38] TF-TRT Warning: Could not find TensorRT\n"
     ]
    }
   ],
   "source": [
    "# import modules from sources\n",
    "from sources import utils, datasetup, engine, models"
   ]
  },
  {
   "cell_type": "code",
   "execution_count": 4,
   "id": "a7b783b1-985f-44b9-b510-eace6e1428dc",
   "metadata": {},
   "outputs": [
    {
     "data": {
      "text/plain": [
       "'cuda'"
      ]
     },
     "execution_count": 4,
     "metadata": {},
     "output_type": "execute_result"
    }
   ],
   "source": [
    "# device agnostic\n",
    "device = \"cuda\" if torch.cuda.is_available() else \"cpu\"\n",
    "device"
   ]
  },
  {
   "cell_type": "code",
   "execution_count": 5,
   "id": "f4781dd1-3c7b-400a-9664-ebab8b28754a",
   "metadata": {},
   "outputs": [
    {
     "name": "stdout",
     "output_type": "stream",
     "text": [
      "[INFO] data/images exist.\n"
     ]
    },
    {
     "data": {
      "text/plain": [
       "PosixPath('data/images')"
      ]
     },
     "execution_count": 5,
     "metadata": {},
     "output_type": "execute_result"
    }
   ],
   "source": [
    "# download data\n",
    "source = \"https://github.com/mrdbourke/pytorch-deep-learning/raw/main/data/pizza_steak_sushi.zip\"\n",
    "image_path = datasetup.download_data(source=source)\n",
    "image_path"
   ]
  },
  {
   "cell_type": "code",
   "execution_count": 6,
   "id": "6c0a3683-1ab2-45ff-bc77-6e95f374393d",
   "metadata": {},
   "outputs": [
    {
     "data": {
      "text/plain": [
       "(PosixPath('data/images/train'), PosixPath('data/images/test'))"
      ]
     },
     "execution_count": 6,
     "metadata": {},
     "output_type": "execute_result"
    }
   ],
   "source": [
    "# setup train and test directories\n",
    "train_dir = image_path / \"train\"\n",
    "test_dir = image_path / \"test\"\n",
    "train_dir, test_dir"
   ]
  },
  {
   "cell_type": "code",
   "execution_count": 7,
   "id": "e3a5cf62-b16e-4ff3-a247-3b09a8e97dad",
   "metadata": {},
   "outputs": [
    {
     "name": "stdout",
     "output_type": "stream",
     "text": [
      "[INFO] creating EfficientNet_B0...\n"
     ]
    },
    {
     "data": {
      "text/plain": [
       "ImageClassification(\n",
       "    crop_size=[224]\n",
       "    resize_size=[256]\n",
       "    mean=[0.485, 0.456, 0.406]\n",
       "    std=[0.229, 0.224, 0.225]\n",
       "    interpolation=InterpolationMode.BICUBIC\n",
       ")"
      ]
     },
     "execution_count": 7,
     "metadata": {},
     "output_type": "execute_result"
    }
   ],
   "source": [
    "# setup an efficient net pretrained model\n",
    "model, model_transforms = models.create_effnet(\n",
    "    effnet_version=0\n",
    ")\n",
    "model_transforms"
   ]
  },
  {
   "cell_type": "code",
   "execution_count": 8,
   "id": "b782ecc4-5a6f-4db1-9b4e-581c20b5229f",
   "metadata": {},
   "outputs": [
    {
     "name": "stdout",
     "output_type": "stream",
     "text": [
      "[INFO] creating dataloaders... \n",
      "train_dataloader: <torch.utils.data.dataloader.DataLoader object at 0x7fc4993f9810> \n",
      "test_dataloader: <torch.utils.data.dataloader.DataLoader object at 0x7fc4993f9b10> \n",
      "number of class_names: 3\n"
     ]
    }
   ],
   "source": [
    "# create dataloaders\n",
    "train_dataloader, test_dataloader, class_names = datasetup.create_dataloaders(\n",
    "    train_dir=train_dir,\n",
    "    test_dir=test_dir,\n",
    "    train_transforms=model_transforms,\n",
    "    test_transforms=model_transforms,\n",
    "    batch_size=32\n",
    ")"
   ]
  },
  {
   "cell_type": "code",
   "execution_count": 9,
   "id": "a03fb537-8a00-475d-97b2-c0eeeffce70b",
   "metadata": {},
   "outputs": [],
   "source": [
    "# setup loss function and optimizer\n",
    "loss_fn = torch.nn.CrossEntropyLoss()\n",
    "optimizer = torch.optim.Adam(params=model.parameters(), lr=1e-3)"
   ]
  },
  {
   "cell_type": "code",
   "execution_count": 10,
   "id": "ffa99aab-b9ee-4730-9420-58f732de3b55",
   "metadata": {},
   "outputs": [],
   "source": [
    "import shutil\n",
    "# # shutil.rmtree(\"runs\")\n",
    "shutil.rmtree(\"writerLog\")"
   ]
  },
  {
   "cell_type": "code",
   "execution_count": 11,
   "id": "e1271cb3-a57f-45a2-8263-2d3c59aef4d4",
   "metadata": {},
   "outputs": [
    {
     "name": "stdout",
     "output_type": "stream",
     "text": [
      "[INFO] creating writer log at: writerLog\n"
     ]
    },
    {
     "data": {
      "application/vnd.jupyter.widget-view+json": {
       "model_id": "70c71bc5271e449ab7177cedce77af77",
       "version_major": 2,
       "version_minor": 0
      },
      "text/plain": [
       "  0%|          | 0/20 [00:00<?, ?it/s]"
      ]
     },
     "metadata": {},
     "output_type": "display_data"
    },
    {
     "name": "stdout",
     "output_type": "stream",
     "text": [
      "epoch: 0 | train_loss: 1.0589 | train_acc: 0.3750 | test_loss: 0.8518 | test_acc: 0.7633\n",
      "epoch: 1 | train_loss: 0.9001 | train_acc: 0.5938 | test_loss: 0.8035 | test_acc: 0.7121\n",
      "epoch: 2 | train_loss: 0.7379 | train_acc: 0.7109 | test_loss: 0.6512 | test_acc: 0.8655\n",
      "epoch: 3 | train_loss: 0.6696 | train_acc: 0.7422 | test_loss: 0.6386 | test_acc: 0.8968\n",
      "epoch: 4 | train_loss: 0.6478 | train_acc: 0.7773 | test_loss: 0.5551 | test_acc: 0.9167\n",
      "epoch: 5 | train_loss: 0.5816 | train_acc: 0.8008 | test_loss: 0.5459 | test_acc: 0.8561\n",
      "epoch: 6 | train_loss: 0.5242 | train_acc: 0.8047 | test_loss: 0.5377 | test_acc: 0.8570\n",
      "epoch: 7 | train_loss: 0.5605 | train_acc: 0.7969 | test_loss: 0.5494 | test_acc: 0.8456\n",
      "epoch: 8 | train_loss: 0.4769 | train_acc: 0.8320 | test_loss: 0.5043 | test_acc: 0.8456\n",
      "epoch: 9 | train_loss: 0.4124 | train_acc: 0.9531 | test_loss: 0.4374 | test_acc: 0.8769\n",
      "epoch: 10 | train_loss: 0.4823 | train_acc: 0.8281 | test_loss: 0.4325 | test_acc: 0.8968\n",
      "epoch: 11 | train_loss: 0.4660 | train_acc: 0.8438 | test_loss: 0.4637 | test_acc: 0.8362\n",
      "epoch: 12 | train_loss: 0.4014 | train_acc: 0.8477 | test_loss: 0.4068 | test_acc: 0.8864\n",
      "epoch: 13 | train_loss: 0.4055 | train_acc: 0.8320 | test_loss: 0.4202 | test_acc: 0.8362\n",
      "epoch: 14 | train_loss: 0.3936 | train_acc: 0.8359 | test_loss: 0.4325 | test_acc: 0.8873\n",
      "epoch: 15 | train_loss: 0.3796 | train_acc: 0.8398 | test_loss: 0.4149 | test_acc: 0.8873\n",
      "epoch: 16 | train_loss: 0.3730 | train_acc: 0.9414 | test_loss: 0.4322 | test_acc: 0.8665\n",
      "epoch: 17 | train_loss: 0.3147 | train_acc: 0.9805 | test_loss: 0.3983 | test_acc: 0.8561\n",
      "epoch: 18 | train_loss: 0.3730 | train_acc: 0.8477 | test_loss: 0.4099 | test_acc: 0.8258\n",
      "epoch: 19 | train_loss: 0.3699 | train_acc: 0.8359 | test_loss: 0.3633 | test_acc: 0.8873\n"
     ]
    }
   ],
   "source": [
    "# train pretrained model with new data\n",
    "results = engine.train_tsb_writer(\n",
    "    model=model,\n",
    "    train_dataloader = train_dataloader,\n",
    "    test_dataloader = test_dataloader,\n",
    "    loss_fn = loss_fn,\n",
    "    optimizer = optimizer,\n",
    "    epochs=20,\n",
    "    device=device,\n",
    "    writer=utils.create_writer()\n",
    ")"
   ]
  },
  {
   "cell_type": "code",
   "execution_count": null,
   "id": "6f3adae1-825e-4c6e-9f3c-83c86de944a7",
   "metadata": {},
   "outputs": [],
   "source": [
    "%load_ext tensorboard\n",
    "%tensorboard --logdir writerLog/ --port 0"
   ]
  },
  {
   "cell_type": "code",
   "execution_count": null,
   "id": "62b45622-2606-4ce0-95ed-27936fcd47fb",
   "metadata": {},
   "outputs": [],
   "source": []
  }
 ],
 "metadata": {
  "kernelspec": {
   "display_name": "OLCF-CUDA11 (ipykernel)",
   "language": "python",
   "name": "python3"
  },
  "language_info": {
   "codemirror_mode": {
    "name": "ipython",
    "version": 3
   },
   "file_extension": ".py",
   "mimetype": "text/x-python",
   "name": "python",
   "nbconvert_exporter": "python",
   "pygments_lexer": "ipython3",
   "version": "3.11.4"
  }
 },
 "nbformat": 4,
 "nbformat_minor": 5
}
