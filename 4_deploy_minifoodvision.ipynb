{
 "cells": [
  {
   "cell_type": "markdown",
   "id": "a15cd390-7564-4742-8da9-3fa1f47e7673",
   "metadata": {},
   "source": [
    "# create a model\n",
    "* create a pretrained model\n",
    "* train the model with new data\n",
    "* save the trained model"
   ]
  },
  {
   "cell_type": "code",
   "execution_count": 1,
   "id": "e3403025-623d-4ff4-a809-f4a8018ae726",
   "metadata": {},
   "outputs": [
    {
     "name": "stdout",
     "output_type": "stream",
     "text": [
      "torch 2.0.1+cu118, torchvision 0.15.2+cu118\n"
     ]
    }
   ],
   "source": [
    "import torch\n",
    "import torchvision\n",
    "from torch import nn\n",
    "from torchvision import transforms\n",
    "\n",
    "print(f\"torch {torch.__version__}, torchvision {torchvision.__version__}\")"
   ]
  },
  {
   "cell_type": "code",
   "execution_count": 2,
   "id": "a46d1887-7fe7-496c-ad31-11c73e19ee1d",
   "metadata": {},
   "outputs": [],
   "source": [
    "# import torchinfo\n",
    "try:\n",
    "    from torchinfo import summary\n",
    "except:\n",
    "    print(f\"[INFO] installing torchinfo...\")\n",
    "    !pip install torchinfo\n",
    "    from torchinfo import summary"
   ]
  },
  {
   "cell_type": "code",
   "execution_count": 3,
   "id": "327b623b-6f9e-45c9-a561-ced219d82577",
   "metadata": {},
   "outputs": [
    {
     "name": "stderr",
     "output_type": "stream",
     "text": [
      "2023-11-09 14:42:27.503989: I tensorflow/core/util/port.cc:110] oneDNN custom operations are on. You may see slightly different numerical results due to floating-point round-off errors from different computation orders. To turn them off, set the environment variable `TF_ENABLE_ONEDNN_OPTS=0`.\n",
      "2023-11-09 14:42:27.546982: I tensorflow/core/platform/cpu_feature_guard.cc:182] This TensorFlow binary is optimized to use available CPU instructions in performance-critical operations.\n",
      "To enable the following instructions: AVX2 AVX512F AVX512_VNNI FMA, in other operations, rebuild TensorFlow with the appropriate compiler flags.\n",
      "2023-11-09 14:42:28.275149: W tensorflow/compiler/tf2tensorrt/utils/py_utils.cc:38] TF-TRT Warning: Could not find TensorRT\n"
     ]
    }
   ],
   "source": [
    "# import modules from sources\n",
    "from sources import utils, datasetup, engine, models"
   ]
  },
  {
   "cell_type": "code",
   "execution_count": 4,
   "id": "2cd98258-e1e9-430e-9d0a-8465e82fb213",
   "metadata": {},
   "outputs": [
    {
     "data": {
      "text/plain": [
       "'cuda'"
      ]
     },
     "execution_count": 4,
     "metadata": {},
     "output_type": "execute_result"
    }
   ],
   "source": [
    "# device agnostic\n",
    "device = \"cuda\" if torch.cuda.is_available() else \"cpu\"\n",
    "device"
   ]
  },
  {
   "cell_type": "code",
   "execution_count": 5,
   "id": "bd8a0e8b-8152-400f-aeac-9f328952bc5d",
   "metadata": {},
   "outputs": [
    {
     "name": "stdout",
     "output_type": "stream",
     "text": [
      "[INFO] data/image_20 exist.\n"
     ]
    }
   ],
   "source": [
    "# download data\n",
    "source=\"https://github.com/mrdbourke/pytorch-deep-learning/raw/main/data/pizza_steak_sushi_20_percent.zip\"\n",
    "\n",
    "image_path_20 = datasetup.download_data(\n",
    "    source=source,\n",
    "    destination=\"image_20\"\n",
    ")"
   ]
  },
  {
   "cell_type": "code",
   "execution_count": 6,
   "id": "e6653f60-c995-4b48-bed8-5adb801cfd87",
   "metadata": {},
   "outputs": [],
   "source": [
    "# setup train and test directory\n",
    "train_dir = image_path_20 / \"train\"\n",
    "test_dir = image_path_20 / \"test\""
   ]
  },
  {
   "cell_type": "code",
   "execution_count": 7,
   "id": "5c3d5f89-f0a9-458b-9b7a-73961ee5ed57",
   "metadata": {},
   "outputs": [
    {
     "name": "stdout",
     "output_type": "stream",
     "text": [
      "[INFO] creating EfficientNet_B2...\n"
     ]
    }
   ],
   "source": [
    "# get a pretrained efficientnetb2 model\n",
    "model, model_transforms = models.create_effnet(effnet_version=2)"
   ]
  },
  {
   "cell_type": "code",
   "execution_count": 8,
   "id": "a8877f6a-cd20-43e3-b3b8-c58a4e9004f5",
   "metadata": {},
   "outputs": [
    {
     "name": "stdout",
     "output_type": "stream",
     "text": [
      "[INFO] creating dataloaders... \n",
      "train_dataloader: <torch.utils.data.dataloader.DataLoader object at 0x7f462c69dd50> \n",
      "test_dataloader: <torch.utils.data.dataloader.DataLoader object at 0x7f462c69c150> \n",
      "number of class_names: 3\n"
     ]
    }
   ],
   "source": [
    "# create dataloaders\n",
    "train_dataloader, test_dataloader, class_names = datasetup.create_dataloaders(\n",
    "    train_dir=train_dir,\n",
    "    test_dir=test_dir,\n",
    "    train_transforms=model_transforms,\n",
    "    test_transforms=model_transforms,\n",
    "    batch_size=32\n",
    ")"
   ]
  },
  {
   "cell_type": "code",
   "execution_count": 9,
   "id": "aeeb5177-f84d-4878-a92f-4dabf4184dce",
   "metadata": {},
   "outputs": [],
   "source": [
    "# setup loss function and optimizer\n",
    "loss_fn = torch.nn.CrossEntropyLoss()\n",
    "optimizer = torch.optim.Adam(params=model.parameters(), lr=1e-3)"
   ]
  },
  {
   "cell_type": "code",
   "execution_count": 10,
   "id": "bfda6677-620b-492b-91d9-428b029100f8",
   "metadata": {
    "scrolled": true
   },
   "outputs": [
    {
     "data": {
      "application/vnd.jupyter.widget-view+json": {
       "model_id": "55397097911e4040af179ad3c19f01b2",
       "version_major": 2,
       "version_minor": 0
      },
      "text/plain": [
       "  0%|          | 0/20 [00:00<?, ?it/s]"
      ]
     },
     "metadata": {},
     "output_type": "display_data"
    },
    {
     "name": "stdout",
     "output_type": "stream",
     "text": [
      "epoch: 0 | train_loss: 0.9735 | train_acc: 0.5292 | test_loss: 0.7379 | test_acc: 0.9193\n",
      "epoch: 1 | train_loss: 0.6801 | train_acc: 0.8438 | test_loss: 0.5966 | test_acc: 0.9347\n",
      "epoch: 2 | train_loss: 0.6071 | train_acc: 0.8167 | test_loss: 0.5080 | test_acc: 0.9222\n",
      "epoch: 3 | train_loss: 0.4558 | train_acc: 0.9062 | test_loss: 0.4354 | test_acc: 0.9625\n",
      "epoch: 4 | train_loss: 0.4261 | train_acc: 0.8688 | test_loss: 0.4015 | test_acc: 0.9375\n",
      "epoch: 5 | train_loss: 0.4102 | train_acc: 0.8979 | test_loss: 0.3693 | test_acc: 0.9318\n",
      "epoch: 6 | train_loss: 0.3985 | train_acc: 0.8833 | test_loss: 0.3452 | test_acc: 0.9381\n",
      "epoch: 7 | train_loss: 0.3216 | train_acc: 0.9271 | test_loss: 0.3056 | test_acc: 0.9597\n",
      "epoch: 8 | train_loss: 0.3659 | train_acc: 0.8896 | test_loss: 0.2916 | test_acc: 0.9563\n",
      "epoch: 9 | train_loss: 0.2827 | train_acc: 0.9313 | test_loss: 0.2836 | test_acc: 0.9409\n",
      "epoch: 10 | train_loss: 0.2989 | train_acc: 0.9167 | test_loss: 0.2622 | test_acc: 0.9625\n",
      "epoch: 11 | train_loss: 0.3860 | train_acc: 0.9083 | test_loss: 0.2546 | test_acc: 0.9472\n",
      "epoch: 12 | train_loss: 0.3246 | train_acc: 0.8708 | test_loss: 0.2843 | test_acc: 0.9443\n",
      "epoch: 13 | train_loss: 0.2984 | train_acc: 0.9021 | test_loss: 0.2488 | test_acc: 0.9625\n",
      "epoch: 14 | train_loss: 0.2835 | train_acc: 0.9271 | test_loss: 0.2575 | test_acc: 0.9563\n",
      "epoch: 15 | train_loss: 0.3123 | train_acc: 0.9000 | test_loss: 0.2590 | test_acc: 0.9381\n",
      "epoch: 16 | train_loss: 0.2313 | train_acc: 0.9542 | test_loss: 0.2587 | test_acc: 0.9472\n",
      "epoch: 17 | train_loss: 0.2214 | train_acc: 0.9521 | test_loss: 0.2411 | test_acc: 0.9472\n",
      "epoch: 18 | train_loss: 0.2435 | train_acc: 0.9146 | test_loss: 0.2205 | test_acc: 0.9534\n",
      "epoch: 19 | train_loss: 0.2121 | train_acc: 0.9458 | test_loss: 0.2389 | test_acc: 0.9597\n"
     ]
    }
   ],
   "source": [
    "# do training\n",
    "results = engine.train(\n",
    "    model=model,\n",
    "    train_dataloader=train_dataloader,\n",
    "    test_dataloader=test_dataloader,\n",
    "    loss_fn=loss_fn,\n",
    "    optimizer=optimizer,\n",
    "    epochs=20,\n",
    "    device=device\n",
    ")"
   ]
  },
  {
   "cell_type": "code",
   "execution_count": 11,
   "id": "43fac7d0-677c-419b-a11c-717987af6423",
   "metadata": {},
   "outputs": [
    {
     "data": {
      "image/png": "[encoded data removed]",
      "text/plain": [
       "<Figure size 1000x400 with 2 Axes>"
      ]
     },
     "metadata": {},
     "output_type": "display_data"
    }
   ],
   "source": [
    "# visualize train and test loss and accuracy\n",
    "utils.plot_loss_acc(results=results)"
   ]
  },
  {
   "cell_type": "code",
   "execution_count": 12,
   "id": "e8c034b9-80f0-4469-8447-8911afdd902b",
   "metadata": {},
   "outputs": [
    {
     "name": "stdout",
     "output_type": "stream",
     "text": [
      "[INFO] models exists.\n"
     ]
    }
   ],
   "source": [
    "# save trained model\n",
    "saved_model_path = utils.save_model(\n",
    "    model=model,\n",
    "    model_dir=\"models\",\n",
    "    model_name_grid=[model.name]\n",
    ")"
   ]
  },
  {
   "cell_type": "code",
   "execution_count": 13,
   "id": "320013ec-2c79-4f40-8202-390382ce5a85",
   "metadata": {},
   "outputs": [
    {
     "data": {
      "text/plain": [
       "{'test_loss': 0.23886237740516664,\n",
       " 'test_acc': 0.959659090909091,\n",
       " 'model_size (MB)': 29,\n",
       " 'num_params': 7705221}"
      ]
     },
     "execution_count": 13,
     "metadata": {},
     "output_type": "execute_result"
    }
   ],
   "source": [
    "# model statistic\n",
    "from pathlib import Path\n",
    "\n",
    "# size\n",
    "model_size = Path(saved_model_path).stat().st_size // (1024*1024)\n",
    "\n",
    "# number of parameters\n",
    "num_model_params = sum(torch.numel(para) for para in model.parameters())\n",
    "\n",
    "model_results = {\n",
    "    \"test_loss\": results[\"test_loss\"][-1],\n",
    "    \"test_acc\": results[\"test_acc\"][-1],\n",
    "    \"model_size (MB)\": model_size,\n",
    "    \"num_params\": num_model_params\n",
    "}\n",
    "\n",
    "model_results"
   ]
  },
  {
   "cell_type": "markdown",
   "id": "15bf41b1-a4f2-4505-854d-a92d7db7f044",
   "metadata": {},
   "source": [
    "# launch a local gradio\n",
    "* import gradio\n",
    "* create effnetb2\n",
    "* load stat dict from file\n",
    "* send the trained model to cpu\n",
    "* create a predict function returning a tuple of:\n",
    "  * a dictionary of prediction probability\n",
    "  * prediction wall time\n",
    "* create gradio interface\n",
    "* launch local gradio"
   ]
  },
  {
   "cell_type": "code",
   "execution_count": 14,
   "id": "ddcf8b16-3532-4b31-92e7-8cad5374118f",
   "metadata": {},
   "outputs": [],
   "source": [
    "# import gradio\n",
    "try:\n",
    "    import gradio as gr\n",
    "except:\n",
    "    !pip install -q gradio\n",
    "    import gradio as gr"
   ]
  },
  {
   "cell_type": "code",
   "execution_count": 15,
   "id": "114dd99f-9a23-4233-8b13-0268accb7856",
   "metadata": {},
   "outputs": [
    {
     "name": "stdout",
     "output_type": "stream",
     "text": [
      "[INFO] creating EfficientNet_B2...\n"
     ]
    },
    {
     "data": {
      "text/plain": [
       "device(type='cpu')"
      ]
     },
     "execution_count": 15,
     "metadata": {},
     "output_type": "execute_result"
    }
   ],
   "source": [
    "# create a pretrained EfficientNetB2\n",
    "model, model_transforms = models.create_effnet(effnet_version=2)\n",
    "\n",
    "# send model to CPU when using free gradio\n",
    "model.to(\"cpu\")\n",
    "next(iter(model.parameters())).device"
   ]
  },
  {
   "cell_type": "code",
   "execution_count": 16,
   "id": "e3f0abb7-fe9a-4441-9661-acb95f4d7077",
   "metadata": {},
   "outputs": [
    {
     "data": {
      "text/plain": [
       "<All keys matched successfully>"
      ]
     },
     "execution_count": 16,
     "metadata": {},
     "output_type": "execute_result"
    }
   ],
   "source": [
    "# load stat dict from file\n",
    "model.load_state_dict(torch.load(\n",
    "    f=saved_model_path,\n",
    "    map_location=torch.device(\"cpu\")\n",
    "))"
   ]
  },
  {
   "cell_type": "code",
   "execution_count": 17,
   "id": "7b9c365f-a2d0-443e-860f-6207bf99ee67",
   "metadata": {},
   "outputs": [
    {
     "data": {
      "text/plain": [
       "({'pizza': 0.012035049498081207,\n",
       "  'steak': 0.0954657718539238,\n",
       "  'sushi': 0.8924992084503174},\n",
       " 0.07334432296920568)"
      ]
     },
     "execution_count": 17,
     "metadata": {},
     "output_type": "execute_result"
    }
   ],
   "source": [
    "# create predict function\n",
    "from typing import Dict, Tuple\n",
    "from timeit import default_timer as timer\n",
    "\n",
    "def predict(img)->Tuple[Dict,float]:\n",
    "    \"\"\"predict the food name probability from a list of class names\n",
    "    Args:\n",
    "        img: PIL image\n",
    "    Return:\n",
    "        Tuple[Dict, float]\n",
    "            Dict: dictionary of food name probability\n",
    "            float: wall time of the food name prediction\n",
    "    \"\"\"\n",
    "\n",
    "    # start the timer\n",
    "    start_time = timer()\n",
    "    \n",
    "    # transform PIL image to torch tensor, add batch dimension\n",
    "    img = model_transforms(img).unsqueeze(dim=0)\n",
    "\n",
    "    # switch model to evaluation mode\n",
    "    model.eval()\n",
    "    with torch.inference_mode():\n",
    "        # food name probability prediction\n",
    "        pred_probs = torch.softmax(model(img), dim=1)\n",
    "\n",
    "    # assign prediction probability to a result dictionary\n",
    "    pred_probs_dict = {\n",
    "        class_names[i]: float(pred_probs[0][i]) for i in range(len(class_names))\n",
    "    }\n",
    "\n",
    "    # prediction wall time\n",
    "    pred_wtime = timer() - start_time\n",
    "\n",
    "    # return probability dictionary and wall time\n",
    "    return pred_probs_dict, pred_wtime\n",
    "\n",
    "# test the predict function\n",
    "import random\n",
    "from PIL import Image\n",
    "\n",
    "random_path = random.choice(list(image_path_20.glob(\"*/*/*\")))\n",
    "img = Image.open(random_path)\n",
    "predict(img)"
   ]
  },
  {
   "cell_type": "code",
   "execution_count": 18,
   "id": "5575b2d8-eb38-49d8-b212-5d57b5283d7c",
   "metadata": {},
   "outputs": [],
   "source": [
    "# create a list of examples\n",
    "example_list = random.sample(list(image_path_20.glob(\"*/*/*\")),3)"
   ]
  },
  {
   "cell_type": "code",
   "execution_count": null,
   "id": "a8d96a63-0b05-49c6-a0d4-8b541d0c87b2",
   "metadata": {},
   "outputs": [
    {
     "name": "stdout",
     "output_type": "stream",
     "text": [
      "Running on local URL:  http://127.0.0.1:7860\n",
      "Running on public URL: https://5302aefa9938d9bb2d.gradio.live\n",
      "\n",
      "This share link expires in 72 hours. For free permanent hosting and GPU upgrades, run `gradio deploy` from Terminal to deploy to Spaces (https://huggingface.co/spaces)\n"
     ]
    },
    {
     "data": {
      "text/html": [
       "<div><iframe src=\"https://5302aefa9938d9bb2d.gradio.live\" width=\"100%\" height=\"500\" allow=\"autoplay; camera; microphone; clipboard-read; clipboard-write;\" frameborder=\"0\" allowfullscreen></iframe></div>"
      ],
      "text/plain": [
       "<IPython.core.display.HTML object>"
      ]
     },
     "metadata": {},
     "output_type": "display_data"
    }
   ],
   "source": [
    "demo = gr.Interface(\n",
    "    fn = predict,\n",
    "    inputs=gr.Image(type=\"pil\"),\n",
    "    outputs=[\n",
    "        gr.Label(num_top_classes=3, label=\"Predictions\"),\n",
    "        gr.Number(label=\"prediction time (s)\")\n",
    "    ],\n",
    "    title=\"foodvisionmini\",\n",
    "    description=\"transfer learning using pretrained EfficientNetB2\",\n",
    "    examples=example_list\n",
    ")\n",
    "\n",
    "demo.launch(\n",
    "    debug=True,\n",
    "    share=True\n",
    ")"
   ]
  }
 ],
 "metadata": {
  "kernelspec": {
   "display_name": "OLCF-CUDA11 (ipykernel)",
   "language": "python",
   "name": "python3"
  },
  "language_info": {
   "codemirror_mode": {
    "name": "ipython",
    "version": 3
   },
   "file_extension": ".py",
   "mimetype": "text/x-python",
   "name": "python",
   "nbconvert_exporter": "python",
   "pygments_lexer": "ipython3",
   "version": "3.11.4"
  }
 },
 "nbformat": 4,
 "nbformat_minor": 5
}
