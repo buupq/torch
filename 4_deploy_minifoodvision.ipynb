{
 "cells": [
  {
   "cell_type": "markdown",
   "id": "a15cd390-7564-4742-8da9-3fa1f47e7673",
   "metadata": {},
   "source": [
    "# create a model\n",
    "* create a pretrained model\n",
    "* train the model with new data\n",
    "* save the trained model"
   ]
  },
  {
   "cell_type": "code",
   "execution_count": 1,
   "id": "e3403025-623d-4ff4-a809-f4a8018ae726",
   "metadata": {},
   "outputs": [
    {
     "name": "stdout",
     "output_type": "stream",
     "text": [
      "torch 2.0.1+cu118, torchvision 0.15.2+cu118\n"
     ]
    }
   ],
   "source": [
    "import torch\n",
    "import torchvision\n",
    "from torch import nn\n",
    "from torchvision import transforms\n",
    "\n",
    "print(f\"torch {torch.__version__}, torchvision {torchvision.__version__}\")"
   ]
  },
  {
   "cell_type": "code",
   "execution_count": 2,
   "id": "a46d1887-7fe7-496c-ad31-11c73e19ee1d",
   "metadata": {},
   "outputs": [],
   "source": [
    "# import torchinfo\n",
    "try:\n",
    "    from torchinfo import summary\n",
    "except:\n",
    "    print(f\"[INFO] installing torchinfo...\")\n",
    "    !pip install torchinfo\n",
    "    from torchinfo import summary"
   ]
  },
  {
   "cell_type": "code",
   "execution_count": 3,
   "id": "327b623b-6f9e-45c9-a561-ced219d82577",
   "metadata": {},
   "outputs": [
    {
     "name": "stderr",
     "output_type": "stream",
     "text": [
      "2023-11-09 16:13:35.025130: I tensorflow/core/util/port.cc:110] oneDNN custom operations are on. You may see slightly different numerical results due to floating-point round-off errors from different computation orders. To turn them off, set the environment variable `TF_ENABLE_ONEDNN_OPTS=0`.\n",
      "2023-11-09 16:13:35.066508: I tensorflow/core/platform/cpu_feature_guard.cc:182] This TensorFlow binary is optimized to use available CPU instructions in performance-critical operations.\n",
      "To enable the following instructions: AVX2 AVX512F AVX512_VNNI FMA, in other operations, rebuild TensorFlow with the appropriate compiler flags.\n",
      "2023-11-09 16:13:35.713525: W tensorflow/compiler/tf2tensorrt/utils/py_utils.cc:38] TF-TRT Warning: Could not find TensorRT\n"
     ]
    }
   ],
   "source": [
    "# import modules from sources\n",
    "from sources import utils, datasetup, engine, models"
   ]
  },
  {
   "cell_type": "code",
   "execution_count": 4,
   "id": "2cd98258-e1e9-430e-9d0a-8465e82fb213",
   "metadata": {},
   "outputs": [
    {
     "data": {
      "text/plain": [
       "'cuda'"
      ]
     },
     "execution_count": 4,
     "metadata": {},
     "output_type": "execute_result"
    }
   ],
   "source": [
    "# device agnostic\n",
    "device = \"cuda\" if torch.cuda.is_available() else \"cpu\"\n",
    "device"
   ]
  },
  {
   "cell_type": "code",
   "execution_count": 5,
   "id": "bd8a0e8b-8152-400f-aeac-9f328952bc5d",
   "metadata": {},
   "outputs": [
    {
     "name": "stdout",
     "output_type": "stream",
     "text": [
      "[INFO] creating data/image_20...\n",
      "[INFO] downloading pizza_steak_sushi_20_percent.zip to data...\n",
      "[INFO] extracting pizza_steak_sushi_20_percent.zip to data/image_20...\n",
      "[INFO] removing pizza_steak_sushi_20_percent.zip...\n"
     ]
    }
   ],
   "source": [
    "# download data\n",
    "source=\"https://github.com/mrdbourke/pytorch-deep-learning/raw/main/data/pizza_steak_sushi_20_percent.zip\"\n",
    "\n",
    "image_path_20 = datasetup.download_data(\n",
    "    source=source,\n",
    "    destination=\"image_20\"\n",
    ")"
   ]
  },
  {
   "cell_type": "code",
   "execution_count": 6,
   "id": "e6653f60-c995-4b48-bed8-5adb801cfd87",
   "metadata": {},
   "outputs": [],
   "source": [
    "# setup train and test directory\n",
    "train_dir = image_path_20 / \"train\"\n",
    "test_dir = image_path_20 / \"test\""
   ]
  },
  {
   "cell_type": "code",
   "execution_count": 7,
   "id": "5c3d5f89-f0a9-458b-9b7a-73961ee5ed57",
   "metadata": {},
   "outputs": [
    {
     "name": "stdout",
     "output_type": "stream",
     "text": [
      "[INFO] creating EfficientNet_B2...\n"
     ]
    }
   ],
   "source": [
    "# get a pretrained efficientnetb2 model\n",
    "model, model_transforms = models.create_effnet(effnet_version=2)"
   ]
  },
  {
   "cell_type": "code",
   "execution_count": 8,
   "id": "a8877f6a-cd20-43e3-b3b8-c58a4e9004f5",
   "metadata": {},
   "outputs": [
    {
     "name": "stdout",
     "output_type": "stream",
     "text": [
      "[INFO] creating dataloaders... \n",
      "train_dataloader: <torch.utils.data.dataloader.DataLoader object at 0x7f0088b05ad0> \n",
      "test_dataloader: <torch.utils.data.dataloader.DataLoader object at 0x7f0088b061d0> \n",
      "number of class_names: 3\n"
     ]
    }
   ],
   "source": [
    "# create dataloaders\n",
    "train_dataloader, test_dataloader, class_names = datasetup.create_dataloaders(\n",
    "    train_dir=train_dir,\n",
    "    test_dir=test_dir,\n",
    "    train_transforms=model_transforms,\n",
    "    test_transforms=model_transforms,\n",
    "    batch_size=32\n",
    ")"
   ]
  },
  {
   "cell_type": "code",
   "execution_count": 9,
   "id": "aeeb5177-f84d-4878-a92f-4dabf4184dce",
   "metadata": {},
   "outputs": [],
   "source": [
    "# setup loss function and optimizer\n",
    "loss_fn = torch.nn.CrossEntropyLoss()\n",
    "optimizer = torch.optim.Adam(params=model.parameters(), lr=1e-3)"
   ]
  },
  {
   "cell_type": "code",
   "execution_count": 10,
   "id": "bfda6677-620b-492b-91d9-428b029100f8",
   "metadata": {
    "scrolled": true
   },
   "outputs": [
    {
     "data": {
      "application/vnd.jupyter.widget-view+json": {
       "model_id": "dfd0acc515c149ebbf596df6b654c740",
       "version_major": 2,
       "version_minor": 0
      },
      "text/plain": [
       "  0%|          | 0/10 [00:00<?, ?it/s]"
      ]
     },
     "metadata": {},
     "output_type": "display_data"
    },
    {
     "name": "stdout",
     "output_type": "stream",
     "text": [
      "epoch: 0 | train_loss: 0.9667 | train_acc: 0.5667 | test_loss: 0.7015 | test_acc: 0.9347\n",
      "epoch: 1 | train_loss: 0.6986 | train_acc: 0.8187 | test_loss: 0.5711 | test_acc: 0.9534\n",
      "epoch: 2 | train_loss: 0.5878 | train_acc: 0.8646 | test_loss: 0.4727 | test_acc: 0.9688\n",
      "epoch: 3 | train_loss: 0.4797 | train_acc: 0.8792 | test_loss: 0.4229 | test_acc: 0.9625\n",
      "epoch: 4 | train_loss: 0.4025 | train_acc: 0.9313 | test_loss: 0.3810 | test_acc: 0.9500\n",
      "epoch: 5 | train_loss: 0.3843 | train_acc: 0.8875 | test_loss: 0.3453 | test_acc: 0.9597\n",
      "epoch: 6 | train_loss: 0.3741 | train_acc: 0.8833 | test_loss: 0.3278 | test_acc: 0.9477\n",
      "epoch: 7 | train_loss: 0.3291 | train_acc: 0.9187 | test_loss: 0.3209 | test_acc: 0.9625\n",
      "epoch: 8 | train_loss: 0.3260 | train_acc: 0.9417 | test_loss: 0.2973 | test_acc: 0.9534\n",
      "epoch: 9 | train_loss: 0.3570 | train_acc: 0.8667 | test_loss: 0.2806 | test_acc: 0.9443\n"
     ]
    }
   ],
   "source": [
    "# do training\n",
    "results = engine.train(\n",
    "    model=model,\n",
    "    train_dataloader=train_dataloader,\n",
    "    test_dataloader=test_dataloader,\n",
    "    loss_fn=loss_fn,\n",
    "    optimizer=optimizer,\n",
    "    epochs=10,\n",
    "    device=device\n",
    ")"
   ]
  },
  {
   "cell_type": "code",
   "execution_count": 11,
   "id": "43fac7d0-677c-419b-a11c-717987af6423",
   "metadata": {},
   "outputs": [
    {
     "data": {
      "image/png": "[encoded data removed]",
      "text/plain": [
       "<Figure size 1000x400 with 2 Axes>"
      ]
     },
     "metadata": {},
     "output_type": "display_data"
    }
   ],
   "source": [
    "# visualize train and test loss and accuracy\n",
    "utils.plot_loss_acc(results=results)"
   ]
  },
  {
   "cell_type": "code",
   "execution_count": 12,
   "id": "e8c034b9-80f0-4469-8447-8911afdd902b",
   "metadata": {},
   "outputs": [
    {
     "name": "stdout",
     "output_type": "stream",
     "text": [
      "[INFO] creating folder to save model EfficientNet_B2...\n"
     ]
    }
   ],
   "source": [
    "# save trained model\n",
    "saved_model_path = utils.save_model(\n",
    "    model=model,\n",
    "    model_dir=\"models\",\n",
    "    model_name_grid=[model.name]\n",
    ")"
   ]
  },
  {
   "cell_type": "code",
   "execution_count": 13,
   "id": "320013ec-2c79-4f40-8202-390382ce5a85",
   "metadata": {},
   "outputs": [
    {
     "data": {
      "text/plain": [
       "{'test_loss': 0.28057227432727816,\n",
       " 'test_acc': 0.9443181818181818,\n",
       " 'model_size (MB)': 29,\n",
       " 'num_params': 7705221}"
      ]
     },
     "execution_count": 13,
     "metadata": {},
     "output_type": "execute_result"
    }
   ],
   "source": [
    "# model statistic\n",
    "from pathlib import Path\n",
    "\n",
    "# size\n",
    "model_size = Path(saved_model_path).stat().st_size // (1024*1024)\n",
    "\n",
    "# number of parameters\n",
    "num_model_params = sum(torch.numel(para) for para in model.parameters())\n",
    "\n",
    "model_results = {\n",
    "    \"test_loss\": results[\"test_loss\"][-1],\n",
    "    \"test_acc\": results[\"test_acc\"][-1],\n",
    "    \"model_size (MB)\": model_size,\n",
    "    \"num_params\": num_model_params\n",
    "}\n",
    "\n",
    "model_results"
   ]
  },
  {
   "cell_type": "markdown",
   "id": "15bf41b1-a4f2-4505-854d-a92d7db7f044",
   "metadata": {},
   "source": [
    "# launch a local gradio\n",
    "* import gradio\n",
    "* create effnetb2\n",
    "* load stat dict from file\n",
    "* send the trained model to cpu\n",
    "* create a predict function returning a tuple of:\n",
    "  * a dictionary of prediction probability\n",
    "  * prediction wall time\n",
    "* create gradio interface\n",
    "* launch local gradio"
   ]
  },
  {
   "cell_type": "code",
   "execution_count": 14,
   "id": "ddcf8b16-3532-4b31-92e7-8cad5374118f",
   "metadata": {},
   "outputs": [],
   "source": [
    "# import gradio\n",
    "try:\n",
    "    import gradio as gr\n",
    "except:\n",
    "    !pip install -q gradio\n",
    "    import gradio as gr"
   ]
  },
  {
   "cell_type": "code",
   "execution_count": 15,
   "id": "114dd99f-9a23-4233-8b13-0268accb7856",
   "metadata": {},
   "outputs": [
    {
     "name": "stdout",
     "output_type": "stream",
     "text": [
      "[INFO] creating EfficientNet_B2...\n"
     ]
    },
    {
     "data": {
      "text/plain": [
       "device(type='cpu')"
      ]
     },
     "execution_count": 15,
     "metadata": {},
     "output_type": "execute_result"
    }
   ],
   "source": [
    "# create a pretrained EfficientNetB2\n",
    "model, model_transforms = models.create_effnet(effnet_version=2)\n",
    "\n",
    "# send model to CPU when using free gradio\n",
    "model.to(\"cpu\")\n",
    "next(iter(model.parameters())).device"
   ]
  },
  {
   "cell_type": "code",
   "execution_count": 16,
   "id": "e3f0abb7-fe9a-4441-9661-acb95f4d7077",
   "metadata": {},
   "outputs": [
    {
     "data": {
      "text/plain": [
       "<All keys matched successfully>"
      ]
     },
     "execution_count": 16,
     "metadata": {},
     "output_type": "execute_result"
    }
   ],
   "source": [
    "# load stat dict from file\n",
    "model.load_state_dict(torch.load(\n",
    "    f=saved_model_path,\n",
    "    map_location=torch.device(\"cpu\")\n",
    "))"
   ]
  },
  {
   "cell_type": "code",
   "execution_count": 17,
   "id": "7b9c365f-a2d0-443e-860f-6207bf99ee67",
   "metadata": {},
   "outputs": [
    {
     "data": {
      "text/plain": [
       "({'pizza': 0.9633996486663818,\n",
       "  'steak': 0.019526049494743347,\n",
       "  'sushi': 0.017074353992938995},\n",
       " 0.06854584999382496)"
      ]
     },
     "execution_count": 17,
     "metadata": {},
     "output_type": "execute_result"
    }
   ],
   "source": [
    "from typing import Tuple, Dict\n",
    "from timeit import default_timer as timer\n",
    "from PIL import Image\n",
    "\n",
    "def predict(img: Image)->Tuple[Dict,float]:\n",
    "    \"\"\"predict the food name probability from a list of class names\n",
    "    Args:\n",
    "        img: PIL image\n",
    "    Return:\n",
    "        Tuple[Dict, float]\n",
    "            Dict: dictionary of food name probability\n",
    "            float: wall time of the food name prediction\n",
    "    \"\"\"\n",
    "\n",
    "    # start the timer\n",
    "    start_time = timer()\n",
    "    \n",
    "    # transform PIL image to torch tensor, add batch dimension\n",
    "    img = model_transforms(img).unsqueeze(dim=0)\n",
    "\n",
    "    # switch model to evaluation mode\n",
    "    model.eval()\n",
    "    with torch.inference_mode():\n",
    "        # food name probability prediction\n",
    "        pred_probs = torch.softmax(model(img), dim=1)\n",
    "\n",
    "    # assign prediction probability to a result dictionary\n",
    "    pred_probs_dict = {\n",
    "        class_names[i]: float(pred_probs[0][i]) for i in range(len(class_names))\n",
    "    }\n",
    "\n",
    "    # prediction wall time\n",
    "    pred_wtime = timer() - start_time\n",
    "\n",
    "    # return probability dictionary and wall time\n",
    "    return pred_probs_dict, pred_wtime\n",
    "\n",
    "\n",
    "# test the predict function\n",
    "import random\n",
    "from PIL import Image\n",
    "\n",
    "random_path = random.choice(list(image_path_20.glob(\"*/*/*\")))\n",
    "img = Image.open(random_path)\n",
    "predict(img)"
   ]
  },
  {
   "cell_type": "code",
   "execution_count": 18,
   "id": "5575b2d8-eb38-49d8-b212-5d57b5283d7c",
   "metadata": {},
   "outputs": [],
   "source": [
    "# create a list of examples\n",
    "example_list = random.sample(list(image_path_20.glob(\"*/*/*\")),3)"
   ]
  },
  {
   "cell_type": "code",
   "execution_count": 19,
   "id": "a8d96a63-0b05-49c6-a0d4-8b541d0c87b2",
   "metadata": {},
   "outputs": [
    {
     "name": "stdout",
     "output_type": "stream",
     "text": [
      "Running on local URL:  http://127.0.0.1:7860\n",
      "Running on public URL: https://1179b0397f5cdb88e2.gradio.live\n",
      "\n",
      "This share link expires in 72 hours. For free permanent hosting and GPU upgrades, run `gradio deploy` from Terminal to deploy to Spaces (https://huggingface.co/spaces)\n"
     ]
    },
    {
     "data": {
      "text/html": [
       "<div><iframe src=\"https://1179b0397f5cdb88e2.gradio.live\" width=\"100%\" height=\"500\" allow=\"autoplay; camera; microphone; clipboard-read; clipboard-write;\" frameborder=\"0\" allowfullscreen></iframe></div>"
      ],
      "text/plain": [
       "<IPython.core.display.HTML object>"
      ]
     },
     "metadata": {},
     "output_type": "display_data"
    },
    {
     "name": "stdout",
     "output_type": "stream",
     "text": [
      "Keyboard interruption in main thread... closing server.\n",
      "Killing tunnel 127.0.0.1:7860 <> https://1179b0397f5cdb88e2.gradio.live\n"
     ]
    },
    {
     "data": {
      "text/plain": []
     },
     "execution_count": 19,
     "metadata": {},
     "output_type": "execute_result"
    }
   ],
   "source": [
    "demo = gr.Interface(\n",
    "    fn = predict,\n",
    "    inputs=gr.Image(type=\"pil\"),\n",
    "    outputs=[\n",
    "        gr.Label(num_top_classes=3, label=\"Predictions\"),\n",
    "        gr.Number(label=\"prediction time (s)\")\n",
    "    ],\n",
    "    title=\"foodvisionmini\",\n",
    "    description=\"transfer learning using pretrained EfficientNetB2\",\n",
    "    examples=example_list\n",
    ")\n",
    "\n",
    "demo.launch(\n",
    "    debug=True,\n",
    "    share=True\n",
    ")"
   ]
  },
  {
   "cell_type": "code",
   "execution_count": null,
   "id": "961b2af9-2200-466a-b20b-d5d16f599909",
   "metadata": {},
   "outputs": [],
   "source": []
  },
  {
   "cell_type": "markdown",
   "id": "b9d3a3db-3511-406e-aac8-f71ede0b4c23",
   "metadata": {},
   "source": [
    "# create a gradio app for torchvision mini\n",
    "* upload:\n",
    "  * saved model\n",
    "  * modules from sources\n",
    "  * three examples\n",
    "  * requirements.txt\n",
    "  * app.py that start the app"
   ]
  },
  {
   "cell_type": "code",
   "execution_count": 20,
   "id": "1205d55a-0445-4e4e-8475-631aeb2493bc",
   "metadata": {},
   "outputs": [
    {
     "data": {
      "text/plain": [
       "[['examples/771336.jpg'], ['examples/3401466.jpg'], ['examples/167716.jpg']]"
      ]
     },
     "execution_count": 20,
     "metadata": {},
     "output_type": "execute_result"
    }
   ],
   "source": [
    "# copy three random images from test folder to examples\n",
    "import shutil\n",
    "\n",
    "# create new examples/\n",
    "example_dir = Path(\"examples\")\n",
    "if example_dir.is_dir():\n",
    "    shutil.rmtree(example_dir)\n",
    "example_dir.mkdir(parents=True, exist_ok=True)\n",
    "\n",
    "\n",
    "# deep copy 3 test images to examples/\n",
    "example_list = []\n",
    "for example in random.sample(list(test_dir.glob(\"*/*\")), 3):\n",
    "    shutil.copy2(src=example, dst=example_dir)\n",
    "    ex = [str(example_dir / example.name)]\n",
    "    example_list.append(ex)\n",
    "\n",
    "example_list"
   ]
  },
  {
   "cell_type": "code",
   "execution_count": 21,
   "id": "44a743af-f971-42b2-a92c-bcffa4032ea2",
   "metadata": {},
   "outputs": [
    {
     "name": "stdout",
     "output_type": "stream",
     "text": [
      "Overwriting app.py\n"
     ]
    }
   ],
   "source": [
    "%%writefile app.py\n",
    "from typing import Tuple, Dict\n",
    "import gradio as gr\n",
    "from sources import models\n",
    "from timeit import default_timer as timer\n",
    "from PIL import Image\n",
    "\n",
    "# Setup class names\n",
    "class_names = [\"pizza\", \"steak\", \"sushi\"]\n",
    "\n",
    "# create a pretrained EfficientNetB2 model\n",
    "model, model_transforms = models.create_effnet(\n",
    "    effnet_version=2,\n",
    "    device=torch.device(\"cpu\")\n",
    ")\n",
    "\n",
    "# load model state dict\n",
    "model.load_state_dict(torch.load(\n",
    "    f=\"models/EfficientNet_B2.pth\",\n",
    "    map_location=torch.device(\"cpu\")\n",
    "))\n",
    "\n",
    "\n",
    "def predict(img: Image)->Tuple[Dict,float]:\n",
    "    \"\"\"predict the food name probability from a list of class names\n",
    "    Args:\n",
    "        img: PIL image\n",
    "    Return:\n",
    "        Tuple[Dict, float]\n",
    "            Dict: dictionary of food name probability\n",
    "            float: wall time of the food name prediction\n",
    "    \"\"\"\n",
    "\n",
    "    # start the timer\n",
    "    start_time = timer()\n",
    "    \n",
    "    # transform PIL image to torch tensor, add batch dimension\n",
    "    img = model_transforms(img).unsqueeze(dim=0)\n",
    "\n",
    "    # switch model to evaluation mode\n",
    "    model.eval()\n",
    "    with torch.inference_mode():\n",
    "        # food name probability prediction\n",
    "        pred_probs = torch.softmax(model(img), dim=1)\n",
    "\n",
    "    # assign prediction probability to a result dictionary\n",
    "    pred_probs_dict = {\n",
    "        class_names[i]: float(pred_probs[0][i]) for i in range(len(class_names))\n",
    "    }\n",
    "\n",
    "    # prediction wall time\n",
    "    pred_wtime = timer() - start_time\n",
    "\n",
    "    # return probability dictionary and wall time\n",
    "    return pred_probs_dict, pred_wtime\n",
    "\n",
    "demo = gr.Interface(\n",
    "    fn=predict,\n",
    "    inputs=gr.Image(type=\"pil\"),\n",
    "    outputs=[\n",
    "        gr.Label(num_top_classes=3, label=\"Predictions\"),\n",
    "        gr.Number(label=\"Prediction time (s)\")\n",
    "    ],\n",
    "    examples=example_list\n",
    ")\n",
    "\n",
    "demo.launch()"
   ]
  },
  {
   "cell_type": "code",
   "execution_count": 22,
   "id": "695f5f55-1930-4cff-8767-058753431375",
   "metadata": {},
   "outputs": [
    {
     "data": {
      "text/plain": [
       "'2.0.1+cu118'"
      ]
     },
     "execution_count": 22,
     "metadata": {},
     "output_type": "execute_result"
    }
   ],
   "source": [
    "torch.__version__"
   ]
  },
  {
   "cell_type": "code",
   "execution_count": 23,
   "id": "a7470c90-5f5d-4801-945a-08a25222b957",
   "metadata": {},
   "outputs": [
    {
     "data": {
      "text/plain": [
       "'0.15.2+cu118'"
      ]
     },
     "execution_count": 23,
     "metadata": {},
     "output_type": "execute_result"
    }
   ],
   "source": [
    "torchvision.__version__"
   ]
  },
  {
   "cell_type": "code",
   "execution_count": 24,
   "id": "badbc009-2932-4924-97e9-7cfbf0869126",
   "metadata": {},
   "outputs": [
    {
     "data": {
      "text/plain": [
       "'4.1.2'"
      ]
     },
     "execution_count": 24,
     "metadata": {},
     "output_type": "execute_result"
    }
   ],
   "source": [
    "gr.__version__"
   ]
  },
  {
   "cell_type": "code",
   "execution_count": 25,
   "id": "7487e81d-52aa-4fb9-bc06-cd54ae30f935",
   "metadata": {},
   "outputs": [
    {
     "name": "stdout",
     "output_type": "stream",
     "text": [
      "Overwriting requirements.txt\n"
     ]
    }
   ],
   "source": [
    "%%writefile requirements.txt\n",
    "torch==2.0.1\n",
    "torchvision==0.15.2\n",
    "gradio==4.1.2"
   ]
  },
  {
   "cell_type": "markdown",
   "id": "702303c1-6def-4d95-b662-d777ac495af9",
   "metadata": {},
   "source": [
    "# app on hugging face space\n",
    "https://huggingface.co/spaces/buupq/foodvisionmini"
   ]
  },
  {
   "cell_type": "code",
   "execution_count": null,
   "id": "890db661-931f-4ed0-8a2f-c8b5938d298b",
   "metadata": {},
   "outputs": [],
   "source": []
  }
 ],
 "metadata": {
  "kernelspec": {
   "display_name": "OLCF-CUDA11 (ipykernel)",
   "language": "python",
   "name": "python3"
  },
  "language_info": {
   "codemirror_mode": {
    "name": "ipython",
    "version": 3
   },
   "file_extension": ".py",
   "mimetype": "text/x-python",
   "name": "python",
   "nbconvert_exporter": "python",
   "pygments_lexer": "ipython3",
   "version": "3.11.4"
  }
 },
 "nbformat": 4,
 "nbformat_minor": 5
}
