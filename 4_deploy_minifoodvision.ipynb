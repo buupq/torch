{
 "cells": [
  {
   "cell_type": "markdown",
   "id": "a15cd390-7564-4742-8da9-3fa1f47e7673",
   "metadata": {},
   "source": [
    "# create a model\n",
    "* create a pretrained model\n",
    "* train the model with new data\n",
    "* save the trained model"
   ]
  },
  {
   "cell_type": "code",
   "execution_count": 1,
   "id": "e3403025-623d-4ff4-a809-f4a8018ae726",
   "metadata": {},
   "outputs": [
    {
     "name": "stdout",
     "output_type": "stream",
     "text": [
      "torch 2.0.1+cu118, torchvision 0.15.2+cu118\n"
     ]
    }
   ],
   "source": [
    "import torch\n",
    "import torchvision\n",
    "from torch import nn\n",
    "from torchvision import transforms\n",
    "\n",
    "print(f\"torch {torch.__version__}, torchvision {torchvision.__version__}\")"
   ]
  },
  {
   "cell_type": "code",
   "execution_count": 2,
   "id": "a46d1887-7fe7-496c-ad31-11c73e19ee1d",
   "metadata": {},
   "outputs": [],
   "source": [
    "# import torchinfo\n",
    "try:\n",
    "    from torchinfo import summary\n",
    "except:\n",
    "    print(f\"[INFO] installing torchinfo...\")\n",
    "    !pip install torchinfo\n",
    "    from torchinfo import summary"
   ]
  },
  {
   "cell_type": "code",
   "execution_count": 3,
   "id": "327b623b-6f9e-45c9-a561-ced219d82577",
   "metadata": {},
   "outputs": [
    {
     "name": "stderr",
     "output_type": "stream",
     "text": [
      "2023-11-08 22:49:12.921364: I tensorflow/core/util/port.cc:110] oneDNN custom operations are on. You may see slightly different numerical results due to floating-point round-off errors from different computation orders. To turn them off, set the environment variable `TF_ENABLE_ONEDNN_OPTS=0`.\n",
      "2023-11-08 22:49:12.963357: I tensorflow/core/platform/cpu_feature_guard.cc:182] This TensorFlow binary is optimized to use available CPU instructions in performance-critical operations.\n",
      "To enable the following instructions: AVX2 AVX512F AVX512_VNNI FMA, in other operations, rebuild TensorFlow with the appropriate compiler flags.\n",
      "2023-11-08 22:49:13.607839: W tensorflow/compiler/tf2tensorrt/utils/py_utils.cc:38] TF-TRT Warning: Could not find TensorRT\n"
     ]
    }
   ],
   "source": [
    "# import modules from sources\n",
    "from sources import utils, datasetup, engine, models"
   ]
  },
  {
   "cell_type": "code",
   "execution_count": 4,
   "id": "2cd98258-e1e9-430e-9d0a-8465e82fb213",
   "metadata": {},
   "outputs": [
    {
     "data": {
      "text/plain": [
       "'cuda'"
      ]
     },
     "execution_count": 4,
     "metadata": {},
     "output_type": "execute_result"
    }
   ],
   "source": [
    "# device agnostic\n",
    "device = \"cuda\" if torch.cuda.is_available() else \"cpu\"\n",
    "device"
   ]
  },
  {
   "cell_type": "code",
   "execution_count": 5,
   "id": "bd8a0e8b-8152-400f-aeac-9f328952bc5d",
   "metadata": {},
   "outputs": [
    {
     "name": "stdout",
     "output_type": "stream",
     "text": [
      "[INFO] creating data/image_20...\n",
      "[INFO] downloading pizza_steak_sushi_20_percent.zip to data...\n",
      "[INFO] extracting pizza_steak_sushi_20_percent.zip to data/image_20...\n",
      "[INFO] removing pizza_steak_sushi_20_percent.zip...\n"
     ]
    }
   ],
   "source": [
    "# download data\n",
    "source=\"https://github.com/mrdbourke/pytorch-deep-learning/raw/main/data/pizza_steak_sushi_20_percent.zip\"\n",
    "\n",
    "image_path_20 = datasetup.download_data(\n",
    "    source=source,\n",
    "    destination=\"image_20\"\n",
    ")"
   ]
  },
  {
   "cell_type": "code",
   "execution_count": 6,
   "id": "e6653f60-c995-4b48-bed8-5adb801cfd87",
   "metadata": {},
   "outputs": [],
   "source": [
    "# setup train and test directory\n",
    "train_dir = image_path_20 / \"train\"\n",
    "test_dir = image_path_20 / \"test\""
   ]
  },
  {
   "cell_type": "code",
   "execution_count": 7,
   "id": "5c3d5f89-f0a9-458b-9b7a-73961ee5ed57",
   "metadata": {},
   "outputs": [
    {
     "name": "stdout",
     "output_type": "stream",
     "text": [
      "[INFO] creating EfficientNet_B2...\n"
     ]
    }
   ],
   "source": [
    "# get a pretrained efficientnetb2 model\n",
    "model, model_transforms = models.create_effnet(effnet_version=2)"
   ]
  },
  {
   "cell_type": "code",
   "execution_count": 8,
   "id": "a8877f6a-cd20-43e3-b3b8-c58a4e9004f5",
   "metadata": {},
   "outputs": [
    {
     "name": "stdout",
     "output_type": "stream",
     "text": [
      "[INFO] creating dataloaders... \n",
      "train_dataloader: <torch.utils.data.dataloader.DataLoader object at 0x7f65ad57ff10> \n",
      "test_dataloader: <torch.utils.data.dataloader.DataLoader object at 0x7f655bda6090> \n",
      "number of class_names: 3\n"
     ]
    }
   ],
   "source": [
    "# create dataloaders\n",
    "train_dataloader, test_dataloader, class_names = datasetup.create_dataloaders(\n",
    "    train_dir=train_dir,\n",
    "    test_dir=test_dir,\n",
    "    train_transforms=model_transforms,\n",
    "    test_transforms=model_transforms,\n",
    "    batch_size=32\n",
    ")"
   ]
  },
  {
   "cell_type": "code",
   "execution_count": 9,
   "id": "aeeb5177-f84d-4878-a92f-4dabf4184dce",
   "metadata": {},
   "outputs": [],
   "source": [
    "# setup loss function and optimizer\n",
    "loss_fn = torch.nn.CrossEntropyLoss()\n",
    "optimizer = torch.optim.Adam(params=model.parameters(), lr=1e-3)"
   ]
  },
  {
   "cell_type": "code",
   "execution_count": 10,
   "id": "bfda6677-620b-492b-91d9-428b029100f8",
   "metadata": {
    "scrolled": true
   },
   "outputs": [
    {
     "data": {
      "application/vnd.jupyter.widget-view+json": {
       "model_id": "96c071bcbced420a826b58ee6d78606a",
       "version_major": 2,
       "version_minor": 0
      },
      "text/plain": [
       "  0%|          | 0/20 [00:00<?, ?it/s]"
      ]
     },
     "metadata": {},
     "output_type": "display_data"
    },
    {
     "name": "stdout",
     "output_type": "stream",
     "text": [
      "epoch: 0 | train_loss: 0.9935 | train_acc: 0.5250 | test_loss: 0.7496 | test_acc: 0.8892\n",
      "epoch: 1 | train_loss: 0.7029 | train_acc: 0.8396 | test_loss: 0.6028 | test_acc: 0.9443\n",
      "epoch: 2 | train_loss: 0.5898 | train_acc: 0.8375 | test_loss: 0.4875 | test_acc: 0.9318\n",
      "epoch: 3 | train_loss: 0.5411 | train_acc: 0.8646 | test_loss: 0.4563 | test_acc: 0.9534\n",
      "epoch: 4 | train_loss: 0.4415 | train_acc: 0.9042 | test_loss: 0.3983 | test_acc: 0.9352\n",
      "epoch: 5 | train_loss: 0.3746 | train_acc: 0.9187 | test_loss: 0.3682 | test_acc: 0.9381\n",
      "epoch: 6 | train_loss: 0.3633 | train_acc: 0.9187 | test_loss: 0.3476 | test_acc: 0.9381\n",
      "epoch: 7 | train_loss: 0.3951 | train_acc: 0.9062 | test_loss: 0.3136 | test_acc: 0.9443\n",
      "epoch: 8 | train_loss: 0.3720 | train_acc: 0.8958 | test_loss: 0.3204 | test_acc: 0.9506\n",
      "epoch: 9 | train_loss: 0.2878 | train_acc: 0.9437 | test_loss: 0.2953 | test_acc: 0.9415\n",
      "epoch: 10 | train_loss: 0.3056 | train_acc: 0.8979 | test_loss: 0.2730 | test_acc: 0.9443\n",
      "epoch: 11 | train_loss: 0.2598 | train_acc: 0.9500 | test_loss: 0.2621 | test_acc: 0.9472\n",
      "epoch: 12 | train_loss: 0.3081 | train_acc: 0.9125 | test_loss: 0.2500 | test_acc: 0.9597\n",
      "epoch: 13 | train_loss: 0.3034 | train_acc: 0.8812 | test_loss: 0.2419 | test_acc: 0.9597\n",
      "epoch: 14 | train_loss: 0.2354 | train_acc: 0.9437 | test_loss: 0.2528 | test_acc: 0.9563\n",
      "epoch: 15 | train_loss: 0.2359 | train_acc: 0.9437 | test_loss: 0.2352 | test_acc: 0.9534\n",
      "epoch: 16 | train_loss: 0.2741 | train_acc: 0.9146 | test_loss: 0.2283 | test_acc: 0.9534\n",
      "epoch: 17 | train_loss: 0.2664 | train_acc: 0.9187 | test_loss: 0.2269 | test_acc: 0.9534\n",
      "epoch: 18 | train_loss: 0.2051 | train_acc: 0.9542 | test_loss: 0.2303 | test_acc: 0.9659\n",
      "epoch: 19 | train_loss: 0.2517 | train_acc: 0.9271 | test_loss: 0.2118 | test_acc: 0.9597\n"
     ]
    }
   ],
   "source": [
    "# do training\n",
    "results = engine.train(\n",
    "    model=model,\n",
    "    train_dataloader=train_dataloader,\n",
    "    test_dataloader=test_dataloader,\n",
    "    loss_fn=loss_fn,\n",
    "    optimizer=optimizer,\n",
    "    epochs=20,\n",
    "    device=device\n",
    ")"
   ]
  },
  {
   "cell_type": "code",
   "execution_count": 11,
   "id": "43fac7d0-677c-419b-a11c-717987af6423",
   "metadata": {},
   "outputs": [
    {
     "data": {
      "text/plain": [
       "<matplotlib.legend.Legend at 0x7f655a461ed0>"
      ]
     },
     "execution_count": 11,
     "metadata": {},
     "output_type": "execute_result"
    },
    {
     "data": {
      "image/png": "[encoded data removed]",
      "text/plain": [
       "<Figure size 1000x400 with 2 Axes>"
      ]
     },
     "metadata": {},
     "output_type": "display_data"
    }
   ],
   "source": [
    "# visualize train and test loss and accuracy\n",
    "import matplotlib.pyplot as plt\n",
    "\n",
    "fig, ax = plt.subplots(1, 2, figsize=(10, 4))\n",
    "\n",
    "ax[0].plot(results[\"train_loss\"], label=\"train_loss\")\n",
    "ax[0].plot(results[\"test_loss\"], label=\"test_loss\")\n",
    "ax[0].legend()\n",
    "\n",
    "ax[1].plot(results[\"train_acc\"], label=\"train_acc\")\n",
    "ax[1].plot(results[\"test_acc\"], label=\"test_acc\")\n",
    "ax[1].legend()\n"
   ]
  },
  {
   "cell_type": "code",
   "execution_count": 12,
   "id": "e8c034b9-80f0-4469-8447-8911afdd902b",
   "metadata": {},
   "outputs": [],
   "source": [
    "# save trained model\n",
    "saved_model_path = utils.save_model(\n",
    "    model=model,\n",
    "    model_dir=\"models\",\n",
    "    model_name_grid=[model.name]\n",
    ")"
   ]
  }
 ],
 "metadata": {
  "kernelspec": {
   "display_name": "OLCF-CUDA11 (ipykernel)",
   "language": "python",
   "name": "python3"
  },
  "language_info": {
   "codemirror_mode": {
    "name": "ipython",
    "version": 3
   },
   "file_extension": ".py",
   "mimetype": "text/x-python",
   "name": "python",
   "nbconvert_exporter": "python",
   "pygments_lexer": "ipython3",
   "version": "3.11.4"
  }
 },
 "nbformat": 4,
 "nbformat_minor": 5
}
