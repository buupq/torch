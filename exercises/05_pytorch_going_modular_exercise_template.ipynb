{
 "cells": [
  {
   "cell_type": "markdown",
   "metadata": {
    "colab_type": "text",
    "id": "view-in-github"
   },
   "source": [
    "<a href=\"https://colab.research.google.com/github/mrdbourke/pytorch-deep-learning/blob/main/extras/exercises/05_pytorch_going_modular_exercise_template.ipynb\" target=\"_parent\"><img src=\"https://colab.research.google.com/assets/colab-badge.svg\" alt=\"Open In Colab\"/></a>"
   ]
  },
  {
   "cell_type": "markdown",
   "metadata": {
    "id": "zNqPNlYylluR"
   },
   "source": [
    "# 05. PyTorch Going Modular Exercises\n",
    "\n",
    "Welcome to the 05. PyTorch Going Modular exercise template notebook.\n",
    "\n",
    "There are several questions in this notebook and it's your goal to answer them by writing Python and PyTorch code.\n",
    "\n",
    "> **Note:** There may be more than one solution to each of the exercises, don't worry too much about the *exact* right answer. Try to write some code that works first and then improve it if you can.\n",
    "\n",
    "## Resources and solutions\n",
    "\n",
    "* These exercises/solutions are based on [section 05. PyTorch Going Modular](https://www.learnpytorch.io/05_pytorch_going_modular/) of the Learn PyTorch for Deep Learning course by Zero to Mastery.\n",
    "\n",
    "**Solutions:** \n",
    "\n",
    "Try to complete the code below *before* looking at these.\n",
    "\n",
    "* See a live [walkthrough of the solutions (errors and all) on YouTube](https://youtu.be/ijgFhMK3pp4).\n",
    "* See an example [solutions notebook for these exercises on GitHub](https://github.com/mrdbourke/pytorch-deep-learning/blob/main/extras/solutions/05_pytorch_going_modular_exercise_solutions.ipynb)."
   ]
  },
  {
   "cell_type": "markdown",
   "metadata": {
    "id": "bicbWSrPmfTU"
   },
   "source": [
    "## 1. Turn the code to get the data (from section 1. Get Data) into a Python script, such as `get_data.py`.\n",
    "\n",
    "* When you run the script using `python get_data.py` it should check if the data already exists and skip downloading if it does.\n",
    "* If the data download is successful, you should be able to access the `pizza_steak_sushi` images from the `data` directory."
   ]
  },
  {
   "cell_type": "code",
   "execution_count": 1,
   "metadata": {
    "id": "r0BCn1XIYZ8c"
   },
   "outputs": [
    {
     "name": "stdout",
     "output_type": "stream",
     "text": [
      "Writing get_data.py\n"
     ]
    }
   ],
   "source": [
    "%%writefile get_data.py\n",
    "from pathlib import Path\n",
    "import requests\n",
    "import os\n",
    "from zipfile import ZipFile\n",
    "import argparse\n",
    "\n",
    "# setup parser\n",
    "parser = argparse.ArgumentParser(description=\"get download link\")\n",
    "\n",
    "# get link\n",
    "parser.add_argument(\n",
    "    \"--url\",\n",
    "    default=\"\",\n",
    "    type=str,\n",
    "    help=\"link to image repository\"\n",
    ")\n",
    "\n",
    "# get arguments from parser\n",
    "args = parser.parse_args()\n",
    "\n",
    "# get url\n",
    "url = args.url\n",
    "\n",
    "\n",
    "### download data from url ###\n",
    "def download_data(source: str,\n",
    "                 destination: str=\"images\",\n",
    "                 remove_source: bool=True,\n",
    "                 INFO: bool=True):\n",
    "    \n",
    "    \"\"\"Download file from an url to data, extract files to images folder\n",
    "    Args:\n",
    "        source: url to the data source\n",
    "    Returns:\n",
    "        image_path: folder to store train and test images\"\"\"\n",
    "\n",
    "    # setup data and image paths\n",
    "    data_path = Path(\"data\")\n",
    "    image_path = data_path / destination\n",
    "\n",
    "    # check if image_path exist and create the dir\n",
    "    if image_path.is_dir() and len(os.listdir(image_path)) > 0 :\n",
    "        if INFO:\n",
    "            print(f\"[INFO] {image_path} exist.\")\n",
    "    else:\n",
    "        if INFO:\n",
    "            print(f\"[INFO] creating {image_path}...\")\n",
    "        image_path.mkdir(parents=True, exist_ok=True)\n",
    "\n",
    "        zip_file_name = Path(source).name\n",
    "        zip_file_path = data_path / zip_file_name\n",
    "        if INFO:\n",
    "            print(f\"[INFO] downloading {zip_file_name} to {data_path}...\")\n",
    "        with open(zip_file_path, \"wb\") as f:\n",
    "            request = requests.get(url=source)\n",
    "            f.write(request.content)\n",
    "        if INFO:\n",
    "            print(f\"[INFO] extracting {zip_file_name} to {image_path}...\")\n",
    "        with ZipFile(zip_file_path) as zip_ref:\n",
    "            zip_ref.extractall(image_path)\n",
    "    \n",
    "        if remove_source:\n",
    "            if INFO:\n",
    "                print(f\"[INFO] removing {zip_file_name}...\")\n",
    "            os.remove(zip_file_path)\n",
    "\n",
    "    return image_path\n",
    "\n",
    "\n",
    "download_data(source=url)"
   ]
  },
  {
   "cell_type": "code",
   "execution_count": 2,
   "metadata": {
    "id": "_LrUOIC-YOP9"
   },
   "outputs": [
    {
     "name": "stdout",
     "output_type": "stream",
     "text": [
      "[INFO] creating data/images...\n",
      "[INFO] downloading pizza_steak_sushi.zip to data...\n",
      "[INFO] extracting pizza_steak_sushi.zip to data/images...\n",
      "[INFO] removing pizza_steak_sushi.zip...\n"
     ]
    }
   ],
   "source": [
    "# Example running of get_data.py\n",
    "!python get_data.py --url \"https://github.com/mrdbourke/pytorch-deep-learning/raw/main/data/pizza_steak_sushi.zip\""
   ]
  },
  {
   "cell_type": "markdown",
   "metadata": {
    "id": "zjyn7LU3mvkR"
   },
   "source": [
    "## 2. Use [Python's `argparse` module](https://docs.python.org/3/library/argparse.html) to be able to send the `train.py` custom hyperparameter values for training procedures.\n",
    "* Add an argument flag for using a different:\n",
    "  * Training/testing directory\n",
    "  * Learning rate\n",
    "  * Batch size\n",
    "  * Number of epochs to train for\n",
    "  * Number of hidden units in the TinyVGG model\n",
    "    * Keep the default values for each of the above arguments as what they already are (as in notebook 05).\n",
    "* For example, you should be able to run something similar to the following line to train a TinyVGG model with a learning rate of 0.003 and a batch size of 64 for 20 epochs: `python train.py --learning_rate 0.003 batch_size 64 num_epochs 20`.\n",
    "* **Note:** Since `train.py` leverages the other scripts we created in section 05, such as, `model_builder.py`, `utils.py` and `engine.py`, you'll have to make sure they're available to use too. You can find these in the [`going_modular` folder on the course GitHub](https://github.com/mrdbourke/pytorch-deep-learning/tree/main/going_modular/going_modular). "
   ]
  },
  {
   "cell_type": "code",
   "execution_count": 3,
   "metadata": {
    "id": "MKNDUp45YaW-"
   },
   "outputs": [
    {
     "name": "stdout",
     "output_type": "stream",
     "text": [
      "Writing train.py\n"
     ]
    }
   ],
   "source": [
    "%%writefile train.py\n",
    "\n",
    "# YOUR CODE HERE\n",
    "import torch\n",
    "import torchvision\n",
    "from torch import nn\n",
    "from torchvision import transforms\n",
    "import argparse\n",
    "\n",
    "from sources import models, engine, utils, datasetup\n",
    "\n",
    "# setup parser\n",
    "parser = argparse.ArgumentParser(description=\"get training parameters\")\n",
    "\n",
    "# add train dir\n",
    "parser.add_argument(\n",
    "    \"--train_dir\",\n",
    "    type=str,\n",
    "    default=\"data/images/train/\",\n",
    "    help=\"training data\"\n",
    ")\n",
    "\n",
    "# add test dir\n",
    "parser.add_argument(\n",
    "    \"--test_dir\",\n",
    "    type=str,\n",
    "    default=\"data/images/test/\",\n",
    "    help=\"testing data\"\n",
    ")\n",
    "\n",
    "# add dataloader batch size\n",
    "parser.add_argument(\n",
    "    \"--batch_size\",\n",
    "    type=int,\n",
    "    default=32,\n",
    "    help=\"dataloader batch size\"\n",
    ")\n",
    "\n",
    "# add number of worker for dataloader\n",
    "parser.add_argument(\n",
    "    \"--num_workers\",\n",
    "    type=int,\n",
    "    default=1,\n",
    "    help=\"number of worker for dataloader\"\n",
    ")\n",
    "\n",
    "# add number of epochs for training\n",
    "parser.add_argument(\n",
    "    \"--epochs\",\n",
    "    type=int,\n",
    "    default=2,\n",
    "    help=\"number of epochs for training\"\n",
    ")\n",
    "\n",
    "# add the learning rate\n",
    "parser.add_argument(\n",
    "    \"--lr\",\n",
    "    type=float,\n",
    "    default=1e-3,\n",
    "    help=\"learning rate\"\n",
    ")\n",
    "\n",
    "# get arguments from parser\n",
    "args = parser.parse_args()\n",
    "\n",
    "# get parameters\n",
    "train_dir = args.train_dir\n",
    "test_dir = args.test_dir\n",
    "batch_size = args.batch_size\n",
    "num_workers = args.num_workers\n",
    "epochs = args.epochs\n",
    "lr = args.lr\n",
    "\n",
    "\n",
    "# device agnostic\n",
    "device = \"cuda\" if torch.cuda.is_available() else \"cpu\"\n",
    "\n",
    "# setup pretrained efficient net model\n",
    "model, model_transforms = models.create_effnet(\n",
    "    effnet_version=0,\n",
    "    num_class_names=3,\n",
    "    device=device\n",
    ")\n",
    "\n",
    "# add augmented methods to train transformation\n",
    "train_transforms = transforms.Compose([\n",
    "    transforms.TrivialAugmentWide(),\n",
    "    model_transforms\n",
    "])\n",
    "\n",
    "# setup dataloaders\n",
    "train_dataloader, test_dataloader, class_names = datasetup.create_dataloaders(\n",
    "    train_dir=train_dir,\n",
    "    test_dir=test_dir,\n",
    "    train_transforms=train_transforms,\n",
    "    test_transforms=model_transforms,\n",
    "    batch_size=batch_size,\n",
    "    num_workers=num_workers\n",
    ")\n",
    "\n",
    "# setup loss function and optimizer\n",
    "loss_fn = torch.nn.CrossEntropyLoss()\n",
    "optimizer = torch.optim.Adam(params=model.parameters(), lr=lr)\n",
    "\n",
    "# do training\n",
    "results = engine.train(\n",
    "    model=model,\n",
    "    train_dataloader=train_dataloader,\n",
    "    test_dataloader=test_dataloader,\n",
    "    loss_fn=loss_fn,\n",
    "    optimizer=optimizer,\n",
    "    epochs=epochs,\n",
    "    device=device\n",
    ")\n",
    "\n",
    "saved_model_path = utils.save_model(\n",
    "    model=model,\n",
    "    model_dir=\"saved_model\",\n",
    "    model_name_grid=[model.name]\n",
    ")\n"
   ]
  },
  {
   "cell_type": "code",
   "execution_count": 4,
   "metadata": {
    "scrolled": true
   },
   "outputs": [
    {
     "name": "stdout",
     "output_type": "stream",
     "text": [
      "2023-11-28 14:59:10.323640: I tensorflow/core/util/port.cc:110] oneDNN custom operations are on. You may see slightly different numerical results due to floating-point round-off errors from different computation orders. To turn them off, set the environment variable `TF_ENABLE_ONEDNN_OPTS=0`.\n",
      "2023-11-28 14:59:10.361069: I tensorflow/core/platform/cpu_feature_guard.cc:182] This TensorFlow binary is optimized to use available CPU instructions in performance-critical operations.\n",
      "To enable the following instructions: AVX2 AVX512F AVX512_VNNI FMA, in other operations, rebuild TensorFlow with the appropriate compiler flags.\n",
      "2023-11-28 14:59:10.961760: W tensorflow/compiler/tf2tensorrt/utils/py_utils.cc:38] TF-TRT Warning: Could not find TensorRT\n",
      "[INFO] creating EfficientNet_B0...\n",
      "[INFO] creating dataloaders... \n",
      "train_dataloader: <torch.utils.data.dataloader.DataLoader object at 0x7f7af783da50> \n",
      "test_dataloader: <torch.utils.data.dataloader.DataLoader object at 0x7f7af783ead0> \n",
      "number of class_names: 3\n",
      "  0%|                                                    | 0/10 [00:00<?, ?it/s]epoch: 0 | train_loss: 1.0287 | train_acc: 0.5000 | test_loss: 0.7686 | test_acc: 0.8511\n",
      " 10%|████▍                                       | 1/10 [00:03<00:33,  3.73s/it]epoch: 1 | train_loss: 0.8200 | train_acc: 0.8000 | test_loss: 0.6724 | test_acc: 0.8330\n",
      " 20%|████████▊                                   | 2/10 [00:06<00:25,  3.14s/it]epoch: 2 | train_loss: 0.6795 | train_acc: 0.8208 | test_loss: 0.5748 | test_acc: 0.9068\n",
      " 30%|█████████████▏                              | 3/10 [00:09<00:20,  2.96s/it]epoch: 3 | train_loss: 0.6156 | train_acc: 0.8125 | test_loss: 0.5083 | test_acc: 0.8818\n",
      " 40%|█████████████████▌                          | 4/10 [00:11<00:17,  2.86s/it]epoch: 4 | train_loss: 0.5160 | train_acc: 0.9000 | test_loss: 0.4903 | test_acc: 0.9068\n",
      " 50%|██████████████████████                      | 5/10 [00:14<00:14,  2.83s/it]epoch: 5 | train_loss: 0.5334 | train_acc: 0.8083 | test_loss: 0.4951 | test_acc: 0.8580\n",
      " 60%|██████████████████████████▍                 | 6/10 [00:17<00:11,  2.81s/it]epoch: 6 | train_loss: 0.4927 | train_acc: 0.8583 | test_loss: 0.4241 | test_acc: 0.9193\n",
      " 70%|██████████████████████████████▊             | 7/10 [00:20<00:08,  2.80s/it]epoch: 7 | train_loss: 0.4627 | train_acc: 0.8000 | test_loss: 0.4238 | test_acc: 0.9136\n",
      " 80%|███████████████████████████████████▏        | 8/10 [00:22<00:05,  2.77s/it]epoch: 8 | train_loss: 0.4370 | train_acc: 0.8208 | test_loss: 0.4002 | test_acc: 0.8886\n",
      " 90%|███████████████████████████████████████▌    | 9/10 [00:25<00:02,  2.77s/it]epoch: 9 | train_loss: 0.3842 | train_acc: 0.8667 | test_loss: 0.3792 | test_acc: 0.8818\n",
      "100%|███████████████████████████████████████████| 10/10 [00:28<00:00,  2.85s/it]\n",
      "[INFO] saved_model exists.\n",
      "save model to: saved_model/EfficientNet_B0.pth...\n"
     ]
    }
   ],
   "source": [
    "!python train.py --epochs 10 --batch_size 16"
   ]
  },
  {
   "cell_type": "code",
   "execution_count": null,
   "metadata": {},
   "outputs": [],
   "source": []
  },
  {
   "cell_type": "markdown",
   "metadata": {
    "id": "P2g6EEYvm-46"
   },
   "source": [
    "## 3. Create a Python script to predict (such as `predict.py`) on a target image given a file path with a saved model.\n",
    "\n",
    "* For example, you should be able to run the command `python predict.py some_image.jpeg` and have a trained PyTorch model predict on the image and return its prediction.\n",
    "* To see example prediction code, check out the [predicting on a custom image section in notebook 04](https://www.learnpytorch.io/04_pytorch_custom_datasets/#113-putting-custom-image-prediction-together-building-a-function). \n",
    "* You may also have to write code to load in a trained model."
   ]
  },
  {
   "cell_type": "code",
   "execution_count": 5,
   "metadata": {
    "id": "HU7W6VZfYawP"
   },
   "outputs": [
    {
     "name": "stdout",
     "output_type": "stream",
     "text": [
      "Writing predict.py\n"
     ]
    }
   ],
   "source": [
    "%%writefile predict.py\n",
    "\n",
    "# YOUR CODE HERE\n",
    "import torch\n",
    "from pathlib import Path\n",
    "from PIL import Image\n",
    "import random\n",
    "import argparse\n",
    "\n",
    "from sources import models\n",
    "\n",
    "# setup parser\n",
    "parser = argparse.ArgumentParser(description=\"get path to pimage\")\n",
    "# add path to arg\n",
    "parser.add_argument(\n",
    "    \"--img_path\",\n",
    "    type=str,\n",
    "    default=\".\",\n",
    "    help=\"path to an image for label prediction\"\n",
    ")\n",
    "# get arg parameters\n",
    "args = parser.parse_args()\n",
    "# get image path\n",
    "img_path = args.img_path\n",
    "\n",
    "\n",
    "# # image path\n",
    "# img_path = random.choice(list(Path(\"data/images/\").glob(\"*/*/*\")))\n",
    "true_label = Path(img_path).parent.stem\n",
    "\n",
    "# device agnostic\n",
    "device = \"cuda\" if torch.cuda.is_available() else \"cpu\"\n",
    "\n",
    "# setup pretrained efficient net model\n",
    "loaded_model, loaded_model_transforms = models.create_effnet(\n",
    "    effnet_version=0,\n",
    "    num_class_names=3,\n",
    "    device=device\n",
    ")\n",
    "\n",
    "# class names\n",
    "class_names = ['pizza', 'steak', 'sushi']\n",
    "\n",
    "# load state dict\n",
    "loaded_model.load_state_dict(torch.load(\"saved_model/EfficientNet_B0.pth\"))\n",
    "\n",
    "# open image using PIL\n",
    "img = Image.open(img_path)\n",
    "\n",
    "# transform and send image to device\n",
    "img_transformed = loaded_model_transforms(img).unsqueeze(dim=0).to(device)\n",
    "\n",
    "# switch to evaluation mode\n",
    "loaded_model.eval()\n",
    "with torch.inference_mode():\n",
    "    loaded_y_logit = loaded_model(img_transformed)\n",
    "    loaded_y_preds = torch.argmax(torch.softmax(loaded_y_logit, dim=1), dim=1)\n",
    "    print(f\"Prediction: {class_names[loaded_y_preds]} | true label: {true_label}\")"
   ]
  },
  {
   "cell_type": "code",
   "execution_count": 6,
   "metadata": {},
   "outputs": [
    {
     "name": "stdout",
     "output_type": "stream",
     "text": [
      "[INFO] creating EfficientNet_B0...\n",
      "Prediction: pizza | true label: pizza\n"
     ]
    }
   ],
   "source": [
    "!python predict.py --img_path \"data/images/test/pizza/1152100.jpg\""
   ]
  },
  {
   "cell_type": "code",
   "execution_count": null,
   "metadata": {},
   "outputs": [],
   "source": []
  }
 ],
 "metadata": {
  "accelerator": "GPU",
  "colab": {
   "authorship_tag": "ABX9TyNcX0JATB1YsaAFGNe0TGWq",
   "collapsed_sections": [],
   "include_colab_link": true,
   "name": "05_pytorch_going_modular_exercise_template.ipynb",
   "provenance": []
  },
  "kernelspec": {
   "display_name": "OLCF-CUDA11 (ipykernel)",
   "language": "python",
   "name": "python3"
  },
  "language_info": {
   "codemirror_mode": {
    "name": "ipython",
    "version": 3
   },
   "file_extension": ".py",
   "mimetype": "text/x-python",
   "name": "python",
   "nbconvert_exporter": "python",
   "pygments_lexer": "ipython3",
   "version": "3.11.4"
  }
 },
 "nbformat": 4,
 "nbformat_minor": 4
}
