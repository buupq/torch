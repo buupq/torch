{
 "cells": [
  {
   "cell_type": "code",
   "execution_count": 1,
   "id": "041343da-dfb8-46bc-aa72-de8360b9774b",
   "metadata": {},
   "outputs": [
    {
     "name": "stdout",
     "output_type": "stream",
     "text": [
      "2.0.1+cu118, 0.15.2+cu118\n"
     ]
    }
   ],
   "source": [
    "import torch\n",
    "import torchvision\n",
    "from torch import nn\n",
    "from torchvision import transforms\n",
    "\n",
    "print(f\"{torch.__version__}, {torchvision.__version__}\")"
   ]
  },
  {
   "cell_type": "code",
   "execution_count": 2,
   "id": "387eabff-bdd6-48d6-95e4-8b2ce10c56bc",
   "metadata": {},
   "outputs": [
    {
     "data": {
      "text/plain": [
       "'cuda'"
      ]
     },
     "execution_count": 2,
     "metadata": {},
     "output_type": "execute_result"
    }
   ],
   "source": [
    "# device agnostic\n",
    "device = \"cuda\" if torch.cuda.is_available() else \"cpu\"\n",
    "device"
   ]
  },
  {
   "cell_type": "code",
   "execution_count": 3,
   "id": "55ca5371-5182-47cd-938f-ce31adc59399",
   "metadata": {},
   "outputs": [],
   "source": [
    "# import torchinfo\n",
    "try:\n",
    "    from torchinfo import summary\n",
    "except:\n",
    "    print(f\"[INFO] installing torchinfo...\")\n",
    "    !pip install torchinfo\n",
    "    from torchinfo import summary"
   ]
  },
  {
   "cell_type": "code",
   "execution_count": 4,
   "id": "f3ac473b-8656-4576-acf1-2b11d7f01957",
   "metadata": {},
   "outputs": [],
   "source": [
    "# create function to check model summary\n",
    "def check_model_summary(model: torch.nn.Module,\n",
    "                       input_size = [32, 3, 224, 224],\n",
    "                       col_names = [\"input_size\", \"output_size\", \"num_params\", \"trainable\"],\n",
    "                       col_width = 20):\n",
    "    return summary(\n",
    "        model = model,\n",
    "        input_size = input_size,\n",
    "        col_names = col_names,\n",
    "        col_width = col_width\n",
    "    )"
   ]
  },
  {
   "cell_type": "code",
   "execution_count": 5,
   "id": "03b92495-cb61-4864-a5d9-abb244ec4066",
   "metadata": {},
   "outputs": [
    {
     "name": "stdout",
     "output_type": "stream",
     "text": [
      "Cloning into 'torch'...\n",
      "remote: Enumerating objects: 27, done.\u001b[K\n",
      "remote: Counting objects: 100% (27/27), done.\u001b[K\n",
      "remote: Compressing objects: 100% (23/23), done.\u001b[K\n",
      "remote: Total 27 (delta 5), reused 16 (delta 2), pack-reused 0\u001b[K\n",
      "Receiving objects: 100% (27/27), 19.03 KiB | 3.17 MiB/s, done.\n",
      "Resolving deltas: 100% (5/5), done.\n",
      "mv: cannot move 'torch/sources' to './sources': Directory not empty\n"
     ]
    },
    {
     "ename": "AttributeError",
     "evalue": "module 'torch.utils' has no attribute 'tensorboard'",
     "output_type": "error",
     "traceback": [
      "\u001b[0;31m---------------------------------------------------------------------------\u001b[0m",
      "\u001b[0;31mAttributeError\u001b[0m                            Traceback (most recent call last)",
      "Cell \u001b[0;32mIn[5], line 3\u001b[0m\n\u001b[1;32m      2\u001b[0m \u001b[38;5;28;01mtry\u001b[39;00m:\n\u001b[0;32m----> 3\u001b[0m     \u001b[38;5;28;01mfrom\u001b[39;00m \u001b[38;5;21;01msources\u001b[39;00m \u001b[38;5;28;01mimport\u001b[39;00m datasetup, engine, utils\n\u001b[1;32m      4\u001b[0m \u001b[38;5;28;01mexcept\u001b[39;00m:\n",
      "File \u001b[0;32m/autofs/nccs-svm1_home1/buupq/torch/sources/engine.py:197\u001b[0m\n\u001b[1;32m    189\u001b[0m \u001b[38;5;66;03m# training function with tensorboard writer\u001b[39;00m\n\u001b[1;32m    190\u001b[0m \u001b[38;5;28;01mdef\u001b[39;00m \u001b[38;5;21mtrain_tsb_writer\u001b[39m(model: torch\u001b[38;5;241m.\u001b[39mnn\u001b[38;5;241m.\u001b[39mModule,\n\u001b[1;32m    191\u001b[0m           train_dataloader: torch\u001b[38;5;241m.\u001b[39mutils\u001b[38;5;241m.\u001b[39mdata\u001b[38;5;241m.\u001b[39mDataLoader,\n\u001b[1;32m    192\u001b[0m           test_dataloader: torch\u001b[38;5;241m.\u001b[39mutils\u001b[38;5;241m.\u001b[39mdata\u001b[38;5;241m.\u001b[39mDataLoader,\n\u001b[1;32m    193\u001b[0m           loss_fn: torch\u001b[38;5;241m.\u001b[39mnn\u001b[38;5;241m.\u001b[39mModule,\n\u001b[1;32m    194\u001b[0m           optimizer: torch\u001b[38;5;241m.\u001b[39moptim\u001b[38;5;241m.\u001b[39mOptimizer,\n\u001b[1;32m    195\u001b[0m           epochs: \u001b[38;5;28mint\u001b[39m,\n\u001b[1;32m    196\u001b[0m           device: torch\u001b[38;5;241m.\u001b[39mdevice,\n\u001b[0;32m--> 197\u001b[0m           writer: \u001b[43mtorch\u001b[49m\u001b[38;5;241;43m.\u001b[39;49m\u001b[43mutils\u001b[49m\u001b[38;5;241;43m.\u001b[39;49m\u001b[43mtensorboard\u001b[49m\u001b[38;5;241m.\u001b[39mwriter\u001b[38;5;241m.\u001b[39mSummaryWriter):\n\u001b[1;32m    199\u001b[0m \u001b[38;5;250m    \u001b[39m\u001b[38;5;124;03m\"\"\"training function\u001b[39;00m\n\u001b[1;32m    200\u001b[0m \u001b[38;5;124;03m    Args:\u001b[39;00m\n\u001b[1;32m    201\u001b[0m \u001b[38;5;124;03m        model: input model\u001b[39;00m\n\u001b[0;32m   (...)\u001b[0m\n\u001b[1;32m    208\u001b[0m \u001b[38;5;124;03m    Returns:\u001b[39;00m\n\u001b[1;32m    209\u001b[0m \u001b[38;5;124;03m        results: dictionary of train, test loss and accuracy\"\"\"\u001b[39;00m\n",
      "\u001b[0;31mAttributeError\u001b[0m: module 'torch.utils' has no attribute 'tensorboard'",
      "\nDuring handling of the above exception, another exception occurred:\n",
      "\u001b[0;31mAttributeError\u001b[0m                            Traceback (most recent call last)",
      "Cell \u001b[0;32mIn[5], line 8\u001b[0m\n\u001b[1;32m      6\u001b[0m get_ipython()\u001b[38;5;241m.\u001b[39msystem(\u001b[38;5;124m'\u001b[39m\u001b[38;5;124mmv torch/sources .\u001b[39m\u001b[38;5;124m'\u001b[39m)\n\u001b[1;32m      7\u001b[0m get_ipython()\u001b[38;5;241m.\u001b[39msystem(\u001b[38;5;124m'\u001b[39m\u001b[38;5;124mrm -rf torch\u001b[39m\u001b[38;5;124m'\u001b[39m)\n\u001b[0;32m----> 8\u001b[0m \u001b[38;5;28;01mfrom\u001b[39;00m \u001b[38;5;21;01msources\u001b[39;00m \u001b[38;5;28;01mimport\u001b[39;00m datasetup, engine, utils\n",
      "File \u001b[0;32m/autofs/nccs-svm1_home1/buupq/torch/sources/engine.py:197\u001b[0m\n\u001b[1;32m    186\u001b[0m     \u001b[38;5;28;01mreturn\u001b[39;00m results\n\u001b[1;32m    189\u001b[0m \u001b[38;5;66;03m# training function with tensorboard writer\u001b[39;00m\n\u001b[1;32m    190\u001b[0m \u001b[38;5;28;01mdef\u001b[39;00m \u001b[38;5;21mtrain_tsb_writer\u001b[39m(model: torch\u001b[38;5;241m.\u001b[39mnn\u001b[38;5;241m.\u001b[39mModule,\n\u001b[1;32m    191\u001b[0m           train_dataloader: torch\u001b[38;5;241m.\u001b[39mutils\u001b[38;5;241m.\u001b[39mdata\u001b[38;5;241m.\u001b[39mDataLoader,\n\u001b[1;32m    192\u001b[0m           test_dataloader: torch\u001b[38;5;241m.\u001b[39mutils\u001b[38;5;241m.\u001b[39mdata\u001b[38;5;241m.\u001b[39mDataLoader,\n\u001b[1;32m    193\u001b[0m           loss_fn: torch\u001b[38;5;241m.\u001b[39mnn\u001b[38;5;241m.\u001b[39mModule,\n\u001b[1;32m    194\u001b[0m           optimizer: torch\u001b[38;5;241m.\u001b[39moptim\u001b[38;5;241m.\u001b[39mOptimizer,\n\u001b[1;32m    195\u001b[0m           epochs: \u001b[38;5;28mint\u001b[39m,\n\u001b[1;32m    196\u001b[0m           device: torch\u001b[38;5;241m.\u001b[39mdevice,\n\u001b[0;32m--> 197\u001b[0m           writer: \u001b[43mtorch\u001b[49m\u001b[38;5;241;43m.\u001b[39;49m\u001b[43mutils\u001b[49m\u001b[38;5;241;43m.\u001b[39;49m\u001b[43mtensorboard\u001b[49m\u001b[38;5;241m.\u001b[39mwriter\u001b[38;5;241m.\u001b[39mSummaryWriter):\n\u001b[1;32m    199\u001b[0m \u001b[38;5;250m    \u001b[39m\u001b[38;5;124;03m\"\"\"training function\u001b[39;00m\n\u001b[1;32m    200\u001b[0m \u001b[38;5;124;03m    Args:\u001b[39;00m\n\u001b[1;32m    201\u001b[0m \u001b[38;5;124;03m        model: input model\u001b[39;00m\n\u001b[0;32m   (...)\u001b[0m\n\u001b[1;32m    208\u001b[0m \u001b[38;5;124;03m    Returns:\u001b[39;00m\n\u001b[1;32m    209\u001b[0m \u001b[38;5;124;03m        results: dictionary of train, test loss and accuracy\"\"\"\u001b[39;00m\n\u001b[1;32m    212\u001b[0m     \u001b[38;5;66;03m# initialize result dictionary\u001b[39;00m\n",
      "\u001b[0;31mAttributeError\u001b[0m: module 'torch.utils' has no attribute 'tensorboard'"
     ]
    }
   ],
   "source": [
    "# import my modules\n",
    "try:\n",
    "    from sources import datasetup, engine, utils\n",
    "except:\n",
    "    !git clone git@github.com:buupq/torch.git\n",
    "    !mv torch/sources .\n",
    "    !rm -rf torch\n",
    "    from sources import datasetup, engine, utils"
   ]
  },
  {
   "cell_type": "code",
   "execution_count": null,
   "id": "9de119e8-d3a0-44db-9eeb-3f46ba86a99c",
   "metadata": {},
   "outputs": [],
   "source": [
    "# download data\n",
    "image_path = datasetup.download_data(source=\"https://github.com/mrdbourke/pytorch-deep-learning/raw/main/data/pizza_steak_sushi.zip\")\n",
    "image_path"
   ]
  },
  {
   "cell_type": "code",
   "execution_count": null,
   "id": "2627c35a-82a6-400d-b56a-ed3e9af06582",
   "metadata": {},
   "outputs": [],
   "source": [
    "# setup train and test directories\n",
    "train_dir = image_path / \"train\"\n",
    "test_dir = image_path / \"test\"\n",
    "train_dir, test_dir"
   ]
  },
  {
   "cell_type": "markdown",
   "id": "86919963-53f1-4946-bd49-28d57fc878ab",
   "metadata": {},
   "source": [
    "# playing with one pretrain model"
   ]
  },
  {
   "cell_type": "code",
   "execution_count": null,
   "id": "f0e5dbbb-0c2f-4206-9c64-e1a07a47bf2d",
   "metadata": {},
   "outputs": [],
   "source": [
    "# from weights of a pretrained model get its transformation methods and model\n",
    "weights = torchvision.models.EfficientNet_B0_Weights.DEFAULT\n",
    "automatic_transforms = weights.transforms()\n",
    "model = torchvision.models.efficientnet_b0(weights=weights).to(device)\n",
    "print(f\"automatic transforms: {automatic_transforms}\")"
   ]
  },
  {
   "cell_type": "code",
   "execution_count": null,
   "id": "284ca7a2-4fbe-4e83-baa5-4dfbdf65bfbb",
   "metadata": {},
   "outputs": [],
   "source": [
    "# check_model_summary(model=model)"
   ]
  },
  {
   "cell_type": "code",
   "execution_count": null,
   "id": "ec73230b-a5c4-4a51-85b4-b70d34accef9",
   "metadata": {},
   "outputs": [],
   "source": [
    "# create dataloaders from the available transforms\n",
    "train_dataloader, test_dataloader, class_names = datasetup.create_dataloaders(\n",
    "    train_dir = train_dir,\n",
    "    test_dir = test_dir,\n",
    "    train_transforms=automatic_transforms,\n",
    "    test_transforms=automatic_transforms,\n",
    "    batch_size = 32,\n",
    "    num_workers=1\n",
    ")\n",
    "train_dataloader, test_dataloader, class_names"
   ]
  },
  {
   "cell_type": "code",
   "execution_count": null,
   "id": "45203d06-45a9-4360-97a4-d890f7e4df51",
   "metadata": {},
   "outputs": [],
   "source": [
    "# free model feature layer parameters\n",
    "for para in model.features.parameters():\n",
    "    para.requires_grad = False"
   ]
  },
  {
   "cell_type": "code",
   "execution_count": null,
   "id": "9034ad89-21f6-4b0c-bfa4-d398490ec73d",
   "metadata": {},
   "outputs": [],
   "source": [
    "# check model classifier head\n",
    "model.classifier"
   ]
  },
  {
   "cell_type": "code",
   "execution_count": null,
   "id": "c82f8fce-8ab5-4f91-99a0-502d45664c25",
   "metadata": {},
   "outputs": [],
   "source": [
    "# modify model classifier head\n",
    "model.classifier = torch.nn.Sequential(\n",
    "    torch.nn.Dropout(p=0.2, inplace=True),\n",
    "    torch.nn.Linear(in_features=1280, out_features=3, bias=True)\n",
    ").to(device)\n",
    "model.classifier"
   ]
  },
  {
   "cell_type": "code",
   "execution_count": null,
   "id": "a787edf3-272f-4013-8b42-b53c42426848",
   "metadata": {},
   "outputs": [],
   "source": [
    "# check_model_summary(model=model)"
   ]
  },
  {
   "cell_type": "code",
   "execution_count": null,
   "id": "06c7f49e-b2a3-48bb-b7bf-5d5bcb79f483",
   "metadata": {},
   "outputs": [],
   "source": [
    "# setup loss function and optimizer\n",
    "loss_fn = torch.nn.CrossEntropyLoss()\n",
    "optimizer = torch.optim.Adam(params=model.parameters(), lr=0.001)"
   ]
  },
  {
   "cell_type": "code",
   "execution_count": null,
   "id": "4d768df8-e3e4-4ac9-ab10-2b4cf09b70dd",
   "metadata": {},
   "outputs": [],
   "source": [
    "# train the modified model\n",
    "\n",
    "results = engine.train(\n",
    "    model = model,\n",
    "    train_dataloader = train_dataloader, \n",
    "    test_dataloader = test_dataloader,\n",
    "    loss_fn = loss_fn,\n",
    "    optimizer = optimizer,\n",
    "    epochs=5,\n",
    "    device=device\n",
    ")"
   ]
  },
  {
   "cell_type": "markdown",
   "id": "f3b0dc76-1ac1-45b5-97a2-3e30ae90bf06",
   "metadata": {},
   "source": [
    "# use train function with results recorded to tensorboard"
   ]
  },
  {
   "cell_type": "code",
   "execution_count": null,
   "id": "ea5a4986-9a57-47a2-badb-495c4c295dc4",
   "metadata": {},
   "outputs": [],
   "source": [
    "# import Summary writer from tensorboard\n",
    "from torch.utils.tensorboard.writer import SummaryWriter\n",
    "writer = SummaryWriter()\n",
    "writer"
   ]
  },
  {
   "cell_type": "code",
   "execution_count": null,
   "id": "61b2e1fb-fd42-4a4b-8e78-b04d3dc5ec0b",
   "metadata": {},
   "outputs": [],
   "source": [
    "# setup loss function and optimizer\n",
    "loss_fn = torch.nn.CrossEntropyLoss()\n",
    "optimizer = torch.optim.Adam(params=model.parameters(), lr=0.001)"
   ]
  },
  {
   "cell_type": "code",
   "execution_count": 7,
   "id": "d0976f5a-a5c3-4fe6-8ff2-083b7419d735",
   "metadata": {},
   "outputs": [
    {
     "ename": "NameError",
     "evalue": "name 'engine' is not defined",
     "output_type": "error",
     "traceback": [
      "\u001b[0;31m---------------------------------------------------------------------------\u001b[0m",
      "\u001b[0;31mNameError\u001b[0m                                 Traceback (most recent call last)",
      "Cell \u001b[0;32mIn[7], line 2\u001b[0m\n\u001b[1;32m      1\u001b[0m \u001b[38;5;66;03m# do training with results written to tensorboard writer\u001b[39;00m\n\u001b[0;32m----> 2\u001b[0m results \u001b[38;5;241m=\u001b[39m \u001b[43mengine\u001b[49m\u001b[38;5;241m.\u001b[39mtrain_tsb_writer(\n\u001b[1;32m      3\u001b[0m     model\u001b[38;5;241m=\u001b[39mmodel,\n\u001b[1;32m      4\u001b[0m     train_dataloader \u001b[38;5;241m=\u001b[39m train_dataloader,\n\u001b[1;32m      5\u001b[0m     test_dataloader \u001b[38;5;241m=\u001b[39m test_dataloader,\n\u001b[1;32m      6\u001b[0m     loss_fn \u001b[38;5;241m=\u001b[39m loss_fn,\n\u001b[1;32m      7\u001b[0m     optimizer \u001b[38;5;241m=\u001b[39m optimizer,\n\u001b[1;32m      8\u001b[0m     epochs\u001b[38;5;241m=\u001b[39m\u001b[38;5;241m5\u001b[39m,\n\u001b[1;32m      9\u001b[0m     device\u001b[38;5;241m=\u001b[39mdevice,\n\u001b[1;32m     10\u001b[0m     writer\u001b[38;5;241m=\u001b[39mwriter\n\u001b[1;32m     11\u001b[0m )\n",
      "\u001b[0;31mNameError\u001b[0m: name 'engine' is not defined"
     ]
    }
   ],
   "source": [
    "# do training with results written to tensorboard writer\n",
    "results = engine.train_tsb_writer(\n",
    "    model=model,\n",
    "    train_dataloader = train_dataloader,\n",
    "    test_dataloader = test_dataloader,\n",
    "    loss_fn = loss_fn,\n",
    "    optimizer = optimizer,\n",
    "    epochs=5,\n",
    "    device=device,\n",
    "    writer=writer\n",
    ")"
   ]
  },
  {
   "cell_type": "code",
   "execution_count": 8,
   "id": "204480fa-abe6-4b0d-9bbf-2ae27c52094e",
   "metadata": {},
   "outputs": [],
   "source": [
    "from torch.utils.tensorboard.writer import SummaryWriter"
   ]
  },
  {
   "cell_type": "code",
   "execution_count": null,
   "id": "6f3adae1-825e-4c6e-9f3c-83c86de944a7",
   "metadata": {},
   "outputs": [],
   "source": []
  },
  {
   "cell_type": "code",
   "execution_count": null,
   "id": "46bb8b8b-5d60-456b-b2c1-9ed228590de3",
   "metadata": {},
   "outputs": [],
   "source": []
  },
  {
   "cell_type": "code",
   "execution_count": null,
   "id": "48f14556-d7ce-4eb2-8fff-f8631badc8c6",
   "metadata": {},
   "outputs": [],
   "source": []
  }
 ],
 "metadata": {
  "kernelspec": {
   "display_name": "OLCF-CUDA11 (ipykernel)",
   "language": "python",
   "name": "python3"
  },
  "language_info": {
   "codemirror_mode": {
    "name": "ipython",
    "version": 3
   },
   "file_extension": ".py",
   "mimetype": "text/x-python",
   "name": "python",
   "nbconvert_exporter": "python",
   "pygments_lexer": "ipython3",
   "version": "3.11.4"
  }
 },
 "nbformat": 4,
 "nbformat_minor": 5
}
